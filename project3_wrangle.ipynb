{
 "cells": [
  {
   "cell_type": "code",
   "execution_count": 72,
   "metadata": {
    "collapsed": true
   },
   "outputs": [],
   "source": [
    "from datetime import datetime\n",
    "import matplotlib\n",
    "import matplotlib.pyplot as plt\n",
    "import os\n",
    "import pandas as pd\n",
    "import pickle\n",
    "import random\n",
    "import re\n",
    "\n",
    "%matplotlib inline\n",
    "\n",
    "os.listdir()"
   ]
  },
  {
   "cell_type": "markdown",
   "metadata": {},
   "source": [
    "## Gather"
   ]
  },
  {
   "cell_type": "code",
   "execution_count": 3,
   "metadata": {
    "collapsed": true
   },
   "outputs": [],
   "source": [
    "edf = pd.read_csv('all_energy_statistics.csv')"
   ]
  },
  {
   "cell_type": "markdown",
   "metadata": {},
   "source": [
    "## Assess 1"
   ]
  },
  {
   "cell_type": "code",
   "execution_count": 4,
   "metadata": {},
   "outputs": [
    {
     "name": "stdout",
     "output_type": "stream",
     "text": [
      "<class 'pandas.core.frame.DataFrame'>\n",
      "RangeIndex: 1189482 entries, 0 to 1189481\n",
      "Data columns (total 7 columns):\n",
      "country_or_area          1189482 non-null object\n",
      "commodity_transaction    1189482 non-null object\n",
      "year                     1189482 non-null int64\n",
      "unit                     1189482 non-null object\n",
      "quantity                 1189482 non-null float64\n",
      "quantity_footnotes       163946 non-null float64\n",
      "category                 1189482 non-null object\n",
      "dtypes: float64(2), int64(1), object(4)\n",
      "memory usage: 63.5+ MB\n"
     ]
    }
   ],
   "source": [
    "edf.info()"
   ]
  },
  {
   "cell_type": "code",
   "execution_count": 5,
   "metadata": {},
   "outputs": [
    {
     "data": {
      "text/html": [
       "<div>\n",
       "<style>\n",
       "    .dataframe thead tr:only-child th {\n",
       "        text-align: right;\n",
       "    }\n",
       "\n",
       "    .dataframe thead th {\n",
       "        text-align: left;\n",
       "    }\n",
       "\n",
       "    .dataframe tbody tr th {\n",
       "        vertical-align: top;\n",
       "    }\n",
       "</style>\n",
       "<table border=\"1\" class=\"dataframe\">\n",
       "  <thead>\n",
       "    <tr style=\"text-align: right;\">\n",
       "      <th></th>\n",
       "      <th>country_or_area</th>\n",
       "      <th>commodity_transaction</th>\n",
       "      <th>year</th>\n",
       "      <th>unit</th>\n",
       "      <th>quantity</th>\n",
       "      <th>quantity_footnotes</th>\n",
       "      <th>category</th>\n",
       "    </tr>\n",
       "  </thead>\n",
       "  <tbody>\n",
       "    <tr>\n",
       "      <th>476255</th>\n",
       "      <td>Jersey</td>\n",
       "      <td>Gas Oil/ Diesel Oil - Transformation in electr...</td>\n",
       "      <td>1997</td>\n",
       "      <td>Metric tons,  thousand</td>\n",
       "      <td>15.379</td>\n",
       "      <td>NaN</td>\n",
       "      <td>gas_oil_diesel_oil</td>\n",
       "    </tr>\n",
       "    <tr>\n",
       "      <th>662111</th>\n",
       "      <td>Nicaragua</td>\n",
       "      <td>Liquefied petroleum gas (LPG) - production fro...</td>\n",
       "      <td>2007</td>\n",
       "      <td>Metric tons,  thousand</td>\n",
       "      <td>16.000</td>\n",
       "      <td>NaN</td>\n",
       "      <td>liquified_petroleum_gas</td>\n",
       "    </tr>\n",
       "    <tr>\n",
       "      <th>238141</th>\n",
       "      <td>Isle of Man</td>\n",
       "      <td>Electricity - total net installed capacity of ...</td>\n",
       "      <td>2012</td>\n",
       "      <td>Kilowatts,  thousand</td>\n",
       "      <td>1.000</td>\n",
       "      <td>NaN</td>\n",
       "      <td>electricity_net_installed_capacity_of_electric...</td>\n",
       "    </tr>\n",
       "    <tr>\n",
       "      <th>676995</th>\n",
       "      <td>Spain</td>\n",
       "      <td>Liquified Petroleum Gas (LPG) - Consumption by...</td>\n",
       "      <td>2008</td>\n",
       "      <td>Metric tons,  thousand</td>\n",
       "      <td>11.000</td>\n",
       "      <td>NaN</td>\n",
       "      <td>liquified_petroleum_gas</td>\n",
       "    </tr>\n",
       "    <tr>\n",
       "      <th>577342</th>\n",
       "      <td>Pakistan</td>\n",
       "      <td>Kerosene-type Jet Fuel - Consumption by domest...</td>\n",
       "      <td>1999</td>\n",
       "      <td>Metric tons,  thousand</td>\n",
       "      <td>641.000</td>\n",
       "      <td>NaN</td>\n",
       "      <td>kerosene_type_jet_fuel</td>\n",
       "    </tr>\n",
       "  </tbody>\n",
       "</table>\n",
       "</div>"
      ],
      "text/plain": [
       "       country_or_area                              commodity_transaction  \\\n",
       "476255          Jersey  Gas Oil/ Diesel Oil - Transformation in electr...   \n",
       "662111       Nicaragua  Liquefied petroleum gas (LPG) - production fro...   \n",
       "238141     Isle of Man  Electricity - total net installed capacity of ...   \n",
       "676995           Spain  Liquified Petroleum Gas (LPG) - Consumption by...   \n",
       "577342        Pakistan  Kerosene-type Jet Fuel - Consumption by domest...   \n",
       "\n",
       "        year                    unit  quantity  quantity_footnotes  \\\n",
       "476255  1997  Metric tons,  thousand    15.379                 NaN   \n",
       "662111  2007  Metric tons,  thousand    16.000                 NaN   \n",
       "238141  2012    Kilowatts,  thousand     1.000                 NaN   \n",
       "676995  2008  Metric tons,  thousand    11.000                 NaN   \n",
       "577342  1999  Metric tons,  thousand   641.000                 NaN   \n",
       "\n",
       "                                                 category  \n",
       "476255                                 gas_oil_diesel_oil  \n",
       "662111                            liquified_petroleum_gas  \n",
       "238141  electricity_net_installed_capacity_of_electric...  \n",
       "676995                            liquified_petroleum_gas  \n",
       "577342                             kerosene_type_jet_fuel  "
      ]
     },
     "execution_count": 5,
     "metadata": {},
     "output_type": "execute_result"
    }
   ],
   "source": [
    "edf.sample(5)"
   ]
  },
  {
   "cell_type": "code",
   "execution_count": 6,
   "metadata": {},
   "outputs": [
    {
     "data": {
      "text/plain": [
       "count     1189482\n",
       "unique        243\n",
       "top       Germany\n",
       "freq        20422\n",
       "Name: country_or_area, dtype: object"
      ]
     },
     "execution_count": 6,
     "metadata": {},
     "output_type": "execute_result"
    }
   ],
   "source": [
    "edf.country_or_area.describe()"
   ]
  },
  {
   "cell_type": "code",
   "execution_count": 7,
   "metadata": {},
   "outputs": [
    {
     "data": {
      "text/plain": [
       "Metric tons,  thousand     759859\n",
       "Terajoules                 178937\n",
       "Kilowatt-hours, million    147741\n",
       "Cubic metres, thousand      52032\n",
       "Kilowatts,  thousand        50229\n",
       "Metric Tons                   684\n",
       "Name: unit, dtype: int64"
      ]
     },
     "execution_count": 7,
     "metadata": {},
     "output_type": "execute_result"
    }
   ],
   "source": [
    "edf.unit.value_counts()"
   ]
  },
  {
   "cell_type": "code",
   "execution_count": 8,
   "metadata": {},
   "outputs": [
    {
     "data": {
      "text/html": [
       "<div>\n",
       "<style>\n",
       "    .dataframe thead tr:only-child th {\n",
       "        text-align: right;\n",
       "    }\n",
       "\n",
       "    .dataframe thead th {\n",
       "        text-align: left;\n",
       "    }\n",
       "\n",
       "    .dataframe tbody tr th {\n",
       "        vertical-align: top;\n",
       "    }\n",
       "</style>\n",
       "<table border=\"1\" class=\"dataframe\">\n",
       "  <thead>\n",
       "    <tr style=\"text-align: right;\">\n",
       "      <th></th>\n",
       "      <th>country_or_area</th>\n",
       "      <th>commodity_transaction</th>\n",
       "      <th>year</th>\n",
       "      <th>unit</th>\n",
       "      <th>quantity</th>\n",
       "      <th>quantity_footnotes</th>\n",
       "      <th>category</th>\n",
       "    </tr>\n",
       "  </thead>\n",
       "  <tbody>\n",
       "  </tbody>\n",
       "</table>\n",
       "</div>"
      ],
      "text/plain": [
       "Empty DataFrame\n",
       "Columns: [country_or_area, commodity_transaction, year, unit, quantity, quantity_footnotes, category]\n",
       "Index: []"
      ]
     },
     "execution_count": 8,
     "metadata": {},
     "output_type": "execute_result"
    }
   ],
   "source": [
    "edf[edf.category.isnull()]"
   ]
  },
  {
   "cell_type": "code",
   "execution_count": 9,
   "metadata": {},
   "outputs": [
    {
     "data": {
      "text/html": [
       "<div>\n",
       "<style>\n",
       "    .dataframe thead tr:only-child th {\n",
       "        text-align: right;\n",
       "    }\n",
       "\n",
       "    .dataframe thead th {\n",
       "        text-align: left;\n",
       "    }\n",
       "\n",
       "    .dataframe tbody tr th {\n",
       "        vertical-align: top;\n",
       "    }\n",
       "</style>\n",
       "<table border=\"1\" class=\"dataframe\">\n",
       "  <thead>\n",
       "    <tr style=\"text-align: right;\">\n",
       "      <th></th>\n",
       "      <th>country_or_area</th>\n",
       "      <th>commodity_transaction</th>\n",
       "      <th>year</th>\n",
       "      <th>unit</th>\n",
       "      <th>quantity</th>\n",
       "      <th>quantity_footnotes</th>\n",
       "      <th>category</th>\n",
       "    </tr>\n",
       "  </thead>\n",
       "  <tbody>\n",
       "    <tr>\n",
       "      <th>622</th>\n",
       "      <td>Colombia</td>\n",
       "      <td>Additives and Oxygenates - Production</td>\n",
       "      <td>2014</td>\n",
       "      <td>Metric tons,  thousand</td>\n",
       "      <td>34.530</td>\n",
       "      <td>1.0</td>\n",
       "      <td>additives_and_oxygenates</td>\n",
       "    </tr>\n",
       "    <tr>\n",
       "      <th>1369</th>\n",
       "      <td>Colombia</td>\n",
       "      <td>Additives and Oxygenates - Total energy supply</td>\n",
       "      <td>2014</td>\n",
       "      <td>Metric tons,  thousand</td>\n",
       "      <td>34.530</td>\n",
       "      <td>1.0</td>\n",
       "      <td>additives_and_oxygenates</td>\n",
       "    </tr>\n",
       "    <tr>\n",
       "      <th>1886</th>\n",
       "      <td>Colombia</td>\n",
       "      <td>Additives and Oxygenates - transfers and recyc...</td>\n",
       "      <td>2014</td>\n",
       "      <td>Metric tons,  thousand</td>\n",
       "      <td>34.530</td>\n",
       "      <td>1.0</td>\n",
       "      <td>additives_and_oxygenates</td>\n",
       "    </tr>\n",
       "    <tr>\n",
       "      <th>2250</th>\n",
       "      <td>Jordan</td>\n",
       "      <td>Additives and Oxygenates - Transformation</td>\n",
       "      <td>2014</td>\n",
       "      <td>Metric tons,  thousand</td>\n",
       "      <td>103.000</td>\n",
       "      <td>1.0</td>\n",
       "      <td>additives_and_oxygenates</td>\n",
       "    </tr>\n",
       "    <tr>\n",
       "      <th>2251</th>\n",
       "      <td>Jordan</td>\n",
       "      <td>Additives and Oxygenates - Transformation</td>\n",
       "      <td>2013</td>\n",
       "      <td>Metric tons,  thousand</td>\n",
       "      <td>101.000</td>\n",
       "      <td>1.0</td>\n",
       "      <td>additives_and_oxygenates</td>\n",
       "    </tr>\n",
       "    <tr>\n",
       "      <th>2252</th>\n",
       "      <td>Jordan</td>\n",
       "      <td>Additives and Oxygenates - Transformation</td>\n",
       "      <td>2012</td>\n",
       "      <td>Metric tons,  thousand</td>\n",
       "      <td>107.000</td>\n",
       "      <td>1.0</td>\n",
       "      <td>additives_and_oxygenates</td>\n",
       "    </tr>\n",
       "    <tr>\n",
       "      <th>2253</th>\n",
       "      <td>Jordan</td>\n",
       "      <td>Additives and Oxygenates - Transformation</td>\n",
       "      <td>2011</td>\n",
       "      <td>Metric tons,  thousand</td>\n",
       "      <td>131.000</td>\n",
       "      <td>1.0</td>\n",
       "      <td>additives_and_oxygenates</td>\n",
       "    </tr>\n",
       "    <tr>\n",
       "      <th>2753</th>\n",
       "      <td>Jordan</td>\n",
       "      <td>Additives and Oxygenates - Transformation in o...</td>\n",
       "      <td>2014</td>\n",
       "      <td>Metric tons,  thousand</td>\n",
       "      <td>103.000</td>\n",
       "      <td>1.0</td>\n",
       "      <td>additives_and_oxygenates</td>\n",
       "    </tr>\n",
       "    <tr>\n",
       "      <th>2754</th>\n",
       "      <td>Jordan</td>\n",
       "      <td>Additives and Oxygenates - Transformation in o...</td>\n",
       "      <td>2013</td>\n",
       "      <td>Metric tons,  thousand</td>\n",
       "      <td>101.000</td>\n",
       "      <td>1.0</td>\n",
       "      <td>additives_and_oxygenates</td>\n",
       "    </tr>\n",
       "    <tr>\n",
       "      <th>2755</th>\n",
       "      <td>Jordan</td>\n",
       "      <td>Additives and Oxygenates - Transformation in o...</td>\n",
       "      <td>2012</td>\n",
       "      <td>Metric tons,  thousand</td>\n",
       "      <td>107.000</td>\n",
       "      <td>1.0</td>\n",
       "      <td>additives_and_oxygenates</td>\n",
       "    </tr>\n",
       "    <tr>\n",
       "      <th>2756</th>\n",
       "      <td>Jordan</td>\n",
       "      <td>Additives and Oxygenates - Transformation in o...</td>\n",
       "      <td>2011</td>\n",
       "      <td>Metric tons,  thousand</td>\n",
       "      <td>131.000</td>\n",
       "      <td>1.0</td>\n",
       "      <td>additives_and_oxygenates</td>\n",
       "    </tr>\n",
       "    <tr>\n",
       "      <th>3018</th>\n",
       "      <td>United States</td>\n",
       "      <td>Animal waste - Consumption by commerce and pub...</td>\n",
       "      <td>2014</td>\n",
       "      <td>Terajoules</td>\n",
       "      <td>42805.000</td>\n",
       "      <td>1.0</td>\n",
       "      <td>animal_waste</td>\n",
       "    </tr>\n",
       "    <tr>\n",
       "      <th>3019</th>\n",
       "      <td>United States</td>\n",
       "      <td>Animal waste - Consumption by commerce and pub...</td>\n",
       "      <td>2013</td>\n",
       "      <td>Terajoules</td>\n",
       "      <td>35001.000</td>\n",
       "      <td>1.0</td>\n",
       "      <td>animal_waste</td>\n",
       "    </tr>\n",
       "    <tr>\n",
       "      <th>3020</th>\n",
       "      <td>United States</td>\n",
       "      <td>Animal waste - Consumption by commerce and pub...</td>\n",
       "      <td>2012</td>\n",
       "      <td>Terajoules</td>\n",
       "      <td>21879.000</td>\n",
       "      <td>1.0</td>\n",
       "      <td>animal_waste</td>\n",
       "    </tr>\n",
       "    <tr>\n",
       "      <th>3021</th>\n",
       "      <td>United States</td>\n",
       "      <td>Animal waste - Consumption by commerce and pub...</td>\n",
       "      <td>2011</td>\n",
       "      <td>Terajoules</td>\n",
       "      <td>16574.000</td>\n",
       "      <td>1.0</td>\n",
       "      <td>animal_waste</td>\n",
       "    </tr>\n",
       "    <tr>\n",
       "      <th>3022</th>\n",
       "      <td>United States</td>\n",
       "      <td>Animal waste - Consumption by commerce and pub...</td>\n",
       "      <td>2010</td>\n",
       "      <td>Terajoules</td>\n",
       "      <td>14394.000</td>\n",
       "      <td>1.0</td>\n",
       "      <td>animal_waste</td>\n",
       "    </tr>\n",
       "    <tr>\n",
       "      <th>3023</th>\n",
       "      <td>United States</td>\n",
       "      <td>Animal waste - Consumption by commerce and pub...</td>\n",
       "      <td>2009</td>\n",
       "      <td>Terajoules</td>\n",
       "      <td>52031.000</td>\n",
       "      <td>1.0</td>\n",
       "      <td>animal_waste</td>\n",
       "    </tr>\n",
       "    <tr>\n",
       "      <th>3024</th>\n",
       "      <td>United States</td>\n",
       "      <td>Animal waste - Consumption by commerce and pub...</td>\n",
       "      <td>2008</td>\n",
       "      <td>Terajoules</td>\n",
       "      <td>57019.000</td>\n",
       "      <td>1.0</td>\n",
       "      <td>animal_waste</td>\n",
       "    </tr>\n",
       "    <tr>\n",
       "      <th>3025</th>\n",
       "      <td>United States</td>\n",
       "      <td>Animal waste - Consumption by commerce and pub...</td>\n",
       "      <td>2007</td>\n",
       "      <td>Terajoules</td>\n",
       "      <td>57380.000</td>\n",
       "      <td>1.0</td>\n",
       "      <td>animal_waste</td>\n",
       "    </tr>\n",
       "    <tr>\n",
       "      <th>3026</th>\n",
       "      <td>United States</td>\n",
       "      <td>Animal waste - Consumption by commerce and pub...</td>\n",
       "      <td>2006</td>\n",
       "      <td>Terajoules</td>\n",
       "      <td>62860.000</td>\n",
       "      <td>1.0</td>\n",
       "      <td>animal_waste</td>\n",
       "    </tr>\n",
       "    <tr>\n",
       "      <th>3027</th>\n",
       "      <td>United States</td>\n",
       "      <td>Animal waste - Consumption by commerce and pub...</td>\n",
       "      <td>2005</td>\n",
       "      <td>Terajoules</td>\n",
       "      <td>70253.000</td>\n",
       "      <td>1.0</td>\n",
       "      <td>animal_waste</td>\n",
       "    </tr>\n",
       "    <tr>\n",
       "      <th>3028</th>\n",
       "      <td>United States</td>\n",
       "      <td>Animal waste - Consumption by commerce and pub...</td>\n",
       "      <td>2001</td>\n",
       "      <td>Terajoules</td>\n",
       "      <td>40094.000</td>\n",
       "      <td>1.0</td>\n",
       "      <td>animal_waste</td>\n",
       "    </tr>\n",
       "    <tr>\n",
       "      <th>3029</th>\n",
       "      <td>United States</td>\n",
       "      <td>Animal waste - Consumption by commerce and pub...</td>\n",
       "      <td>2000</td>\n",
       "      <td>Terajoules</td>\n",
       "      <td>52030.000</td>\n",
       "      <td>1.0</td>\n",
       "      <td>animal_waste</td>\n",
       "    </tr>\n",
       "    <tr>\n",
       "      <th>3030</th>\n",
       "      <td>United States</td>\n",
       "      <td>Animal waste - Consumption by commerce and pub...</td>\n",
       "      <td>1999</td>\n",
       "      <td>Terajoules</td>\n",
       "      <td>51423.000</td>\n",
       "      <td>1.0</td>\n",
       "      <td>animal_waste</td>\n",
       "    </tr>\n",
       "    <tr>\n",
       "      <th>3031</th>\n",
       "      <td>United States</td>\n",
       "      <td>Animal waste - Consumption by commerce and pub...</td>\n",
       "      <td>1998</td>\n",
       "      <td>Terajoules</td>\n",
       "      <td>47216.000</td>\n",
       "      <td>1.0</td>\n",
       "      <td>animal_waste</td>\n",
       "    </tr>\n",
       "    <tr>\n",
       "      <th>3032</th>\n",
       "      <td>United States</td>\n",
       "      <td>Animal waste - Consumption by commerce and pub...</td>\n",
       "      <td>1997</td>\n",
       "      <td>Terajoules</td>\n",
       "      <td>42099.000</td>\n",
       "      <td>1.0</td>\n",
       "      <td>animal_waste</td>\n",
       "    </tr>\n",
       "    <tr>\n",
       "      <th>3033</th>\n",
       "      <td>United States</td>\n",
       "      <td>Animal waste - Consumption by commerce and pub...</td>\n",
       "      <td>1996</td>\n",
       "      <td>Terajoules</td>\n",
       "      <td>45106.000</td>\n",
       "      <td>1.0</td>\n",
       "      <td>animal_waste</td>\n",
       "    </tr>\n",
       "    <tr>\n",
       "      <th>3034</th>\n",
       "      <td>United States</td>\n",
       "      <td>Animal waste - Consumption by commerce and pub...</td>\n",
       "      <td>1995</td>\n",
       "      <td>Terajoules</td>\n",
       "      <td>45106.000</td>\n",
       "      <td>1.0</td>\n",
       "      <td>animal_waste</td>\n",
       "    </tr>\n",
       "    <tr>\n",
       "      <th>3035</th>\n",
       "      <td>United States</td>\n",
       "      <td>Animal waste - Consumption by commerce and pub...</td>\n",
       "      <td>1994</td>\n",
       "      <td>Terajoules</td>\n",
       "      <td>44103.000</td>\n",
       "      <td>1.0</td>\n",
       "      <td>animal_waste</td>\n",
       "    </tr>\n",
       "    <tr>\n",
       "      <th>3036</th>\n",
       "      <td>Hungary</td>\n",
       "      <td>Animal waste - Consumption by food and tobacco</td>\n",
       "      <td>2014</td>\n",
       "      <td>Terajoules</td>\n",
       "      <td>87.000</td>\n",
       "      <td>1.0</td>\n",
       "      <td>animal_waste</td>\n",
       "    </tr>\n",
       "    <tr>\n",
       "      <th>...</th>\n",
       "      <td>...</td>\n",
       "      <td>...</td>\n",
       "      <td>...</td>\n",
       "      <td>...</td>\n",
       "      <td>...</td>\n",
       "      <td>...</td>\n",
       "      <td>...</td>\n",
       "    </tr>\n",
       "    <tr>\n",
       "      <th>1188886</th>\n",
       "      <td>Martinique</td>\n",
       "      <td>Electricity - total wind production</td>\n",
       "      <td>2013</td>\n",
       "      <td>Kilowatt-hours, million</td>\n",
       "      <td>1.665</td>\n",
       "      <td>1.0</td>\n",
       "      <td>wind_electricity</td>\n",
       "    </tr>\n",
       "    <tr>\n",
       "      <th>1188887</th>\n",
       "      <td>Martinique</td>\n",
       "      <td>Electricity - total wind production</td>\n",
       "      <td>2012</td>\n",
       "      <td>Kilowatt-hours, million</td>\n",
       "      <td>1.665</td>\n",
       "      <td>1.0</td>\n",
       "      <td>wind_electricity</td>\n",
       "    </tr>\n",
       "    <tr>\n",
       "      <th>1188888</th>\n",
       "      <td>Martinique</td>\n",
       "      <td>Electricity - total wind production</td>\n",
       "      <td>2011</td>\n",
       "      <td>Kilowatt-hours, million</td>\n",
       "      <td>1.665</td>\n",
       "      <td>1.0</td>\n",
       "      <td>wind_electricity</td>\n",
       "    </tr>\n",
       "    <tr>\n",
       "      <th>1188889</th>\n",
       "      <td>Martinique</td>\n",
       "      <td>Electricity - total wind production</td>\n",
       "      <td>2010</td>\n",
       "      <td>Kilowatt-hours, million</td>\n",
       "      <td>1.665</td>\n",
       "      <td>1.0</td>\n",
       "      <td>wind_electricity</td>\n",
       "    </tr>\n",
       "    <tr>\n",
       "      <th>1188890</th>\n",
       "      <td>Martinique</td>\n",
       "      <td>Electricity - total wind production</td>\n",
       "      <td>2009</td>\n",
       "      <td>Kilowatt-hours, million</td>\n",
       "      <td>1.529</td>\n",
       "      <td>1.0</td>\n",
       "      <td>wind_electricity</td>\n",
       "    </tr>\n",
       "    <tr>\n",
       "      <th>1189092</th>\n",
       "      <td>Philippines</td>\n",
       "      <td>Electricity - total wind production</td>\n",
       "      <td>2005</td>\n",
       "      <td>Kilowatt-hours, million</td>\n",
       "      <td>55.000</td>\n",
       "      <td>1.0</td>\n",
       "      <td>wind_electricity</td>\n",
       "    </tr>\n",
       "    <tr>\n",
       "      <th>1189157</th>\n",
       "      <td>Réunion</td>\n",
       "      <td>Electricity - total wind production</td>\n",
       "      <td>2008</td>\n",
       "      <td>Kilowatt-hours, million</td>\n",
       "      <td>15.000</td>\n",
       "      <td>1.0</td>\n",
       "      <td>wind_electricity</td>\n",
       "    </tr>\n",
       "    <tr>\n",
       "      <th>1189158</th>\n",
       "      <td>Réunion</td>\n",
       "      <td>Electricity - total wind production</td>\n",
       "      <td>2007</td>\n",
       "      <td>Kilowatt-hours, million</td>\n",
       "      <td>10.300</td>\n",
       "      <td>1.0</td>\n",
       "      <td>wind_electricity</td>\n",
       "    </tr>\n",
       "    <tr>\n",
       "      <th>1189159</th>\n",
       "      <td>Réunion</td>\n",
       "      <td>Electricity - total wind production</td>\n",
       "      <td>2006</td>\n",
       "      <td>Kilowatt-hours, million</td>\n",
       "      <td>3.700</td>\n",
       "      <td>1.0</td>\n",
       "      <td>wind_electricity</td>\n",
       "    </tr>\n",
       "    <tr>\n",
       "      <th>1189270</th>\n",
       "      <td>St. Helena and Depend.</td>\n",
       "      <td>Electricity - total wind production</td>\n",
       "      <td>2014</td>\n",
       "      <td>Kilowatt-hours, million</td>\n",
       "      <td>1.010</td>\n",
       "      <td>1.0</td>\n",
       "      <td>wind_electricity</td>\n",
       "    </tr>\n",
       "    <tr>\n",
       "      <th>1189277</th>\n",
       "      <td>St. Kitts-Nevis</td>\n",
       "      <td>Electricity - total wind production</td>\n",
       "      <td>2014</td>\n",
       "      <td>Kilowatt-hours, million</td>\n",
       "      <td>8.000</td>\n",
       "      <td>1.0</td>\n",
       "      <td>wind_electricity</td>\n",
       "    </tr>\n",
       "    <tr>\n",
       "      <th>1189278</th>\n",
       "      <td>St. Kitts-Nevis</td>\n",
       "      <td>Electricity - total wind production</td>\n",
       "      <td>2013</td>\n",
       "      <td>Kilowatt-hours, million</td>\n",
       "      <td>8.000</td>\n",
       "      <td>1.0</td>\n",
       "      <td>wind_electricity</td>\n",
       "    </tr>\n",
       "    <tr>\n",
       "      <th>1189283</th>\n",
       "      <td>St. Pierre-Miquelon</td>\n",
       "      <td>Electricity - total wind production</td>\n",
       "      <td>2014</td>\n",
       "      <td>Kilowatt-hours, million</td>\n",
       "      <td>0.870</td>\n",
       "      <td>1.0</td>\n",
       "      <td>wind_electricity</td>\n",
       "    </tr>\n",
       "    <tr>\n",
       "      <th>1189284</th>\n",
       "      <td>St. Pierre-Miquelon</td>\n",
       "      <td>Electricity - total wind production</td>\n",
       "      <td>2013</td>\n",
       "      <td>Kilowatt-hours, million</td>\n",
       "      <td>0.870</td>\n",
       "      <td>1.0</td>\n",
       "      <td>wind_electricity</td>\n",
       "    </tr>\n",
       "    <tr>\n",
       "      <th>1189290</th>\n",
       "      <td>St. Pierre-Miquelon</td>\n",
       "      <td>Electricity - total wind production</td>\n",
       "      <td>2007</td>\n",
       "      <td>Kilowatt-hours, million</td>\n",
       "      <td>0.800</td>\n",
       "      <td>1.0</td>\n",
       "      <td>wind_electricity</td>\n",
       "    </tr>\n",
       "    <tr>\n",
       "      <th>1189291</th>\n",
       "      <td>St. Pierre-Miquelon</td>\n",
       "      <td>Electricity - total wind production</td>\n",
       "      <td>2006</td>\n",
       "      <td>Kilowatt-hours, million</td>\n",
       "      <td>0.800</td>\n",
       "      <td>1.0</td>\n",
       "      <td>wind_electricity</td>\n",
       "    </tr>\n",
       "    <tr>\n",
       "      <th>1189292</th>\n",
       "      <td>St. Pierre-Miquelon</td>\n",
       "      <td>Electricity - total wind production</td>\n",
       "      <td>2005</td>\n",
       "      <td>Kilowatt-hours, million</td>\n",
       "      <td>0.800</td>\n",
       "      <td>1.0</td>\n",
       "      <td>wind_electricity</td>\n",
       "    </tr>\n",
       "    <tr>\n",
       "      <th>1189293</th>\n",
       "      <td>St. Pierre-Miquelon</td>\n",
       "      <td>Electricity - total wind production</td>\n",
       "      <td>2004</td>\n",
       "      <td>Kilowatt-hours, million</td>\n",
       "      <td>0.800</td>\n",
       "      <td>1.0</td>\n",
       "      <td>wind_electricity</td>\n",
       "    </tr>\n",
       "    <tr>\n",
       "      <th>1189294</th>\n",
       "      <td>St. Pierre-Miquelon</td>\n",
       "      <td>Electricity - total wind production</td>\n",
       "      <td>2003</td>\n",
       "      <td>Kilowatt-hours, million</td>\n",
       "      <td>0.800</td>\n",
       "      <td>1.0</td>\n",
       "      <td>wind_electricity</td>\n",
       "    </tr>\n",
       "    <tr>\n",
       "      <th>1189295</th>\n",
       "      <td>St. Pierre-Miquelon</td>\n",
       "      <td>Electricity - total wind production</td>\n",
       "      <td>2002</td>\n",
       "      <td>Kilowatt-hours, million</td>\n",
       "      <td>0.800</td>\n",
       "      <td>1.0</td>\n",
       "      <td>wind_electricity</td>\n",
       "    </tr>\n",
       "    <tr>\n",
       "      <th>1189296</th>\n",
       "      <td>St. Pierre-Miquelon</td>\n",
       "      <td>Electricity - total wind production</td>\n",
       "      <td>2001</td>\n",
       "      <td>Kilowatt-hours, million</td>\n",
       "      <td>0.800</td>\n",
       "      <td>1.0</td>\n",
       "      <td>wind_electricity</td>\n",
       "    </tr>\n",
       "    <tr>\n",
       "      <th>1189297</th>\n",
       "      <td>St. Pierre-Miquelon</td>\n",
       "      <td>Electricity - total wind production</td>\n",
       "      <td>2000</td>\n",
       "      <td>Kilowatt-hours, million</td>\n",
       "      <td>0.800</td>\n",
       "      <td>1.0</td>\n",
       "      <td>wind_electricity</td>\n",
       "    </tr>\n",
       "    <tr>\n",
       "      <th>1189344</th>\n",
       "      <td>Thailand</td>\n",
       "      <td>Electricity - total wind production</td>\n",
       "      <td>2012</td>\n",
       "      <td>Kilowatt-hours, million</td>\n",
       "      <td>3.000</td>\n",
       "      <td>1.0</td>\n",
       "      <td>wind_electricity</td>\n",
       "    </tr>\n",
       "    <tr>\n",
       "      <th>1189345</th>\n",
       "      <td>Thailand</td>\n",
       "      <td>Electricity - total wind production</td>\n",
       "      <td>2011</td>\n",
       "      <td>Kilowatt-hours, million</td>\n",
       "      <td>3.000</td>\n",
       "      <td>1.0</td>\n",
       "      <td>wind_electricity</td>\n",
       "    </tr>\n",
       "    <tr>\n",
       "      <th>1189468</th>\n",
       "      <td>Vanuatu</td>\n",
       "      <td>Electricity - total wind production</td>\n",
       "      <td>2014</td>\n",
       "      <td>Kilowatt-hours, million</td>\n",
       "      <td>3.000</td>\n",
       "      <td>1.0</td>\n",
       "      <td>wind_electricity</td>\n",
       "    </tr>\n",
       "    <tr>\n",
       "      <th>1189469</th>\n",
       "      <td>Vanuatu</td>\n",
       "      <td>Electricity - total wind production</td>\n",
       "      <td>2013</td>\n",
       "      <td>Kilowatt-hours, million</td>\n",
       "      <td>3.000</td>\n",
       "      <td>1.0</td>\n",
       "      <td>wind_electricity</td>\n",
       "    </tr>\n",
       "    <tr>\n",
       "      <th>1189471</th>\n",
       "      <td>Vanuatu</td>\n",
       "      <td>Electricity - total wind production</td>\n",
       "      <td>2011</td>\n",
       "      <td>Kilowatt-hours, million</td>\n",
       "      <td>5.000</td>\n",
       "      <td>1.0</td>\n",
       "      <td>wind_electricity</td>\n",
       "    </tr>\n",
       "    <tr>\n",
       "      <th>1189475</th>\n",
       "      <td>Viet Nam</td>\n",
       "      <td>Electricity - total wind production</td>\n",
       "      <td>2014</td>\n",
       "      <td>Kilowatt-hours, million</td>\n",
       "      <td>300.000</td>\n",
       "      <td>1.0</td>\n",
       "      <td>wind_electricity</td>\n",
       "    </tr>\n",
       "    <tr>\n",
       "      <th>1189476</th>\n",
       "      <td>Viet Nam</td>\n",
       "      <td>Electricity - total wind production</td>\n",
       "      <td>2013</td>\n",
       "      <td>Kilowatt-hours, million</td>\n",
       "      <td>92.000</td>\n",
       "      <td>1.0</td>\n",
       "      <td>wind_electricity</td>\n",
       "    </tr>\n",
       "    <tr>\n",
       "      <th>1189477</th>\n",
       "      <td>Viet Nam</td>\n",
       "      <td>Electricity - total wind production</td>\n",
       "      <td>2012</td>\n",
       "      <td>Kilowatt-hours, million</td>\n",
       "      <td>92.000</td>\n",
       "      <td>1.0</td>\n",
       "      <td>wind_electricity</td>\n",
       "    </tr>\n",
       "  </tbody>\n",
       "</table>\n",
       "<p>163946 rows × 7 columns</p>\n",
       "</div>"
      ],
      "text/plain": [
       "                country_or_area  \\\n",
       "622                    Colombia   \n",
       "1369                   Colombia   \n",
       "1886                   Colombia   \n",
       "2250                     Jordan   \n",
       "2251                     Jordan   \n",
       "2252                     Jordan   \n",
       "2253                     Jordan   \n",
       "2753                     Jordan   \n",
       "2754                     Jordan   \n",
       "2755                     Jordan   \n",
       "2756                     Jordan   \n",
       "3018              United States   \n",
       "3019              United States   \n",
       "3020              United States   \n",
       "3021              United States   \n",
       "3022              United States   \n",
       "3023              United States   \n",
       "3024              United States   \n",
       "3025              United States   \n",
       "3026              United States   \n",
       "3027              United States   \n",
       "3028              United States   \n",
       "3029              United States   \n",
       "3030              United States   \n",
       "3031              United States   \n",
       "3032              United States   \n",
       "3033              United States   \n",
       "3034              United States   \n",
       "3035              United States   \n",
       "3036                    Hungary   \n",
       "...                         ...   \n",
       "1188886              Martinique   \n",
       "1188887              Martinique   \n",
       "1188888              Martinique   \n",
       "1188889              Martinique   \n",
       "1188890              Martinique   \n",
       "1189092             Philippines   \n",
       "1189157                 Réunion   \n",
       "1189158                 Réunion   \n",
       "1189159                 Réunion   \n",
       "1189270  St. Helena and Depend.   \n",
       "1189277         St. Kitts-Nevis   \n",
       "1189278         St. Kitts-Nevis   \n",
       "1189283     St. Pierre-Miquelon   \n",
       "1189284     St. Pierre-Miquelon   \n",
       "1189290     St. Pierre-Miquelon   \n",
       "1189291     St. Pierre-Miquelon   \n",
       "1189292     St. Pierre-Miquelon   \n",
       "1189293     St. Pierre-Miquelon   \n",
       "1189294     St. Pierre-Miquelon   \n",
       "1189295     St. Pierre-Miquelon   \n",
       "1189296     St. Pierre-Miquelon   \n",
       "1189297     St. Pierre-Miquelon   \n",
       "1189344                Thailand   \n",
       "1189345                Thailand   \n",
       "1189468                 Vanuatu   \n",
       "1189469                 Vanuatu   \n",
       "1189471                 Vanuatu   \n",
       "1189475                Viet Nam   \n",
       "1189476                Viet Nam   \n",
       "1189477                Viet Nam   \n",
       "\n",
       "                                     commodity_transaction  year  \\\n",
       "622                  Additives and Oxygenates - Production  2014   \n",
       "1369        Additives and Oxygenates - Total energy supply  2014   \n",
       "1886     Additives and Oxygenates - transfers and recyc...  2014   \n",
       "2250             Additives and Oxygenates - Transformation  2014   \n",
       "2251             Additives and Oxygenates - Transformation  2013   \n",
       "2252             Additives and Oxygenates - Transformation  2012   \n",
       "2253             Additives and Oxygenates - Transformation  2011   \n",
       "2753     Additives and Oxygenates - Transformation in o...  2014   \n",
       "2754     Additives and Oxygenates - Transformation in o...  2013   \n",
       "2755     Additives and Oxygenates - Transformation in o...  2012   \n",
       "2756     Additives and Oxygenates - Transformation in o...  2011   \n",
       "3018     Animal waste - Consumption by commerce and pub...  2014   \n",
       "3019     Animal waste - Consumption by commerce and pub...  2013   \n",
       "3020     Animal waste - Consumption by commerce and pub...  2012   \n",
       "3021     Animal waste - Consumption by commerce and pub...  2011   \n",
       "3022     Animal waste - Consumption by commerce and pub...  2010   \n",
       "3023     Animal waste - Consumption by commerce and pub...  2009   \n",
       "3024     Animal waste - Consumption by commerce and pub...  2008   \n",
       "3025     Animal waste - Consumption by commerce and pub...  2007   \n",
       "3026     Animal waste - Consumption by commerce and pub...  2006   \n",
       "3027     Animal waste - Consumption by commerce and pub...  2005   \n",
       "3028     Animal waste - Consumption by commerce and pub...  2001   \n",
       "3029     Animal waste - Consumption by commerce and pub...  2000   \n",
       "3030     Animal waste - Consumption by commerce and pub...  1999   \n",
       "3031     Animal waste - Consumption by commerce and pub...  1998   \n",
       "3032     Animal waste - Consumption by commerce and pub...  1997   \n",
       "3033     Animal waste - Consumption by commerce and pub...  1996   \n",
       "3034     Animal waste - Consumption by commerce and pub...  1995   \n",
       "3035     Animal waste - Consumption by commerce and pub...  1994   \n",
       "3036       Animal waste - Consumption by food and tobacco   2014   \n",
       "...                                                    ...   ...   \n",
       "1188886                Electricity - total wind production  2013   \n",
       "1188887                Electricity - total wind production  2012   \n",
       "1188888                Electricity - total wind production  2011   \n",
       "1188889                Electricity - total wind production  2010   \n",
       "1188890                Electricity - total wind production  2009   \n",
       "1189092                Electricity - total wind production  2005   \n",
       "1189157                Electricity - total wind production  2008   \n",
       "1189158                Electricity - total wind production  2007   \n",
       "1189159                Electricity - total wind production  2006   \n",
       "1189270                Electricity - total wind production  2014   \n",
       "1189277                Electricity - total wind production  2014   \n",
       "1189278                Electricity - total wind production  2013   \n",
       "1189283                Electricity - total wind production  2014   \n",
       "1189284                Electricity - total wind production  2013   \n",
       "1189290                Electricity - total wind production  2007   \n",
       "1189291                Electricity - total wind production  2006   \n",
       "1189292                Electricity - total wind production  2005   \n",
       "1189293                Electricity - total wind production  2004   \n",
       "1189294                Electricity - total wind production  2003   \n",
       "1189295                Electricity - total wind production  2002   \n",
       "1189296                Electricity - total wind production  2001   \n",
       "1189297                Electricity - total wind production  2000   \n",
       "1189344                Electricity - total wind production  2012   \n",
       "1189345                Electricity - total wind production  2011   \n",
       "1189468                Electricity - total wind production  2014   \n",
       "1189469                Electricity - total wind production  2013   \n",
       "1189471                Electricity - total wind production  2011   \n",
       "1189475                Electricity - total wind production  2014   \n",
       "1189476                Electricity - total wind production  2013   \n",
       "1189477                Electricity - total wind production  2012   \n",
       "\n",
       "                            unit   quantity  quantity_footnotes  \\\n",
       "622       Metric tons,  thousand     34.530                 1.0   \n",
       "1369      Metric tons,  thousand     34.530                 1.0   \n",
       "1886      Metric tons,  thousand     34.530                 1.0   \n",
       "2250      Metric tons,  thousand    103.000                 1.0   \n",
       "2251      Metric tons,  thousand    101.000                 1.0   \n",
       "2252      Metric tons,  thousand    107.000                 1.0   \n",
       "2253      Metric tons,  thousand    131.000                 1.0   \n",
       "2753      Metric tons,  thousand    103.000                 1.0   \n",
       "2754      Metric tons,  thousand    101.000                 1.0   \n",
       "2755      Metric tons,  thousand    107.000                 1.0   \n",
       "2756      Metric tons,  thousand    131.000                 1.0   \n",
       "3018                  Terajoules  42805.000                 1.0   \n",
       "3019                  Terajoules  35001.000                 1.0   \n",
       "3020                  Terajoules  21879.000                 1.0   \n",
       "3021                  Terajoules  16574.000                 1.0   \n",
       "3022                  Terajoules  14394.000                 1.0   \n",
       "3023                  Terajoules  52031.000                 1.0   \n",
       "3024                  Terajoules  57019.000                 1.0   \n",
       "3025                  Terajoules  57380.000                 1.0   \n",
       "3026                  Terajoules  62860.000                 1.0   \n",
       "3027                  Terajoules  70253.000                 1.0   \n",
       "3028                  Terajoules  40094.000                 1.0   \n",
       "3029                  Terajoules  52030.000                 1.0   \n",
       "3030                  Terajoules  51423.000                 1.0   \n",
       "3031                  Terajoules  47216.000                 1.0   \n",
       "3032                  Terajoules  42099.000                 1.0   \n",
       "3033                  Terajoules  45106.000                 1.0   \n",
       "3034                  Terajoules  45106.000                 1.0   \n",
       "3035                  Terajoules  44103.000                 1.0   \n",
       "3036                  Terajoules     87.000                 1.0   \n",
       "...                          ...        ...                 ...   \n",
       "1188886  Kilowatt-hours, million      1.665                 1.0   \n",
       "1188887  Kilowatt-hours, million      1.665                 1.0   \n",
       "1188888  Kilowatt-hours, million      1.665                 1.0   \n",
       "1188889  Kilowatt-hours, million      1.665                 1.0   \n",
       "1188890  Kilowatt-hours, million      1.529                 1.0   \n",
       "1189092  Kilowatt-hours, million     55.000                 1.0   \n",
       "1189157  Kilowatt-hours, million     15.000                 1.0   \n",
       "1189158  Kilowatt-hours, million     10.300                 1.0   \n",
       "1189159  Kilowatt-hours, million      3.700                 1.0   \n",
       "1189270  Kilowatt-hours, million      1.010                 1.0   \n",
       "1189277  Kilowatt-hours, million      8.000                 1.0   \n",
       "1189278  Kilowatt-hours, million      8.000                 1.0   \n",
       "1189283  Kilowatt-hours, million      0.870                 1.0   \n",
       "1189284  Kilowatt-hours, million      0.870                 1.0   \n",
       "1189290  Kilowatt-hours, million      0.800                 1.0   \n",
       "1189291  Kilowatt-hours, million      0.800                 1.0   \n",
       "1189292  Kilowatt-hours, million      0.800                 1.0   \n",
       "1189293  Kilowatt-hours, million      0.800                 1.0   \n",
       "1189294  Kilowatt-hours, million      0.800                 1.0   \n",
       "1189295  Kilowatt-hours, million      0.800                 1.0   \n",
       "1189296  Kilowatt-hours, million      0.800                 1.0   \n",
       "1189297  Kilowatt-hours, million      0.800                 1.0   \n",
       "1189344  Kilowatt-hours, million      3.000                 1.0   \n",
       "1189345  Kilowatt-hours, million      3.000                 1.0   \n",
       "1189468  Kilowatt-hours, million      3.000                 1.0   \n",
       "1189469  Kilowatt-hours, million      3.000                 1.0   \n",
       "1189471  Kilowatt-hours, million      5.000                 1.0   \n",
       "1189475  Kilowatt-hours, million    300.000                 1.0   \n",
       "1189476  Kilowatt-hours, million     92.000                 1.0   \n",
       "1189477  Kilowatt-hours, million     92.000                 1.0   \n",
       "\n",
       "                         category  \n",
       "622      additives_and_oxygenates  \n",
       "1369     additives_and_oxygenates  \n",
       "1886     additives_and_oxygenates  \n",
       "2250     additives_and_oxygenates  \n",
       "2251     additives_and_oxygenates  \n",
       "2252     additives_and_oxygenates  \n",
       "2253     additives_and_oxygenates  \n",
       "2753     additives_and_oxygenates  \n",
       "2754     additives_and_oxygenates  \n",
       "2755     additives_and_oxygenates  \n",
       "2756     additives_and_oxygenates  \n",
       "3018                 animal_waste  \n",
       "3019                 animal_waste  \n",
       "3020                 animal_waste  \n",
       "3021                 animal_waste  \n",
       "3022                 animal_waste  \n",
       "3023                 animal_waste  \n",
       "3024                 animal_waste  \n",
       "3025                 animal_waste  \n",
       "3026                 animal_waste  \n",
       "3027                 animal_waste  \n",
       "3028                 animal_waste  \n",
       "3029                 animal_waste  \n",
       "3030                 animal_waste  \n",
       "3031                 animal_waste  \n",
       "3032                 animal_waste  \n",
       "3033                 animal_waste  \n",
       "3034                 animal_waste  \n",
       "3035                 animal_waste  \n",
       "3036                 animal_waste  \n",
       "...                           ...  \n",
       "1188886          wind_electricity  \n",
       "1188887          wind_electricity  \n",
       "1188888          wind_electricity  \n",
       "1188889          wind_electricity  \n",
       "1188890          wind_electricity  \n",
       "1189092          wind_electricity  \n",
       "1189157          wind_electricity  \n",
       "1189158          wind_electricity  \n",
       "1189159          wind_electricity  \n",
       "1189270          wind_electricity  \n",
       "1189277          wind_electricity  \n",
       "1189278          wind_electricity  \n",
       "1189283          wind_electricity  \n",
       "1189284          wind_electricity  \n",
       "1189290          wind_electricity  \n",
       "1189291          wind_electricity  \n",
       "1189292          wind_electricity  \n",
       "1189293          wind_electricity  \n",
       "1189294          wind_electricity  \n",
       "1189295          wind_electricity  \n",
       "1189296          wind_electricity  \n",
       "1189297          wind_electricity  \n",
       "1189344          wind_electricity  \n",
       "1189345          wind_electricity  \n",
       "1189468          wind_electricity  \n",
       "1189469          wind_electricity  \n",
       "1189471          wind_electricity  \n",
       "1189475          wind_electricity  \n",
       "1189476          wind_electricity  \n",
       "1189477          wind_electricity  \n",
       "\n",
       "[163946 rows x 7 columns]"
      ]
     },
     "execution_count": 9,
     "metadata": {},
     "output_type": "execute_result"
    }
   ],
   "source": [
    "edf[edf.quantity_footnotes.notnull()]"
   ]
  },
  {
   "cell_type": "code",
   "execution_count": 10,
   "metadata": {},
   "outputs": [
    {
     "data": {
      "text/plain": [
       "total_electricity                                              133916\n",
       "gas_oil_diesel_oil                                              97645\n",
       "fuel_oil                                                        75132\n",
       "natural_gas_including_lng                                       64161\n",
       "liquified_petroleum_gas                                         62156\n",
       "motor_gasoline                                                  53198\n",
       "fuelwood                                                        52032\n",
       "electricity_net_installed_capacity_of_electric_power_plants     50229\n",
       "other_kerosene                                                  43466\n",
       "hard_coal                                                       42307\n",
       "kerosene_type_jet_fuel                                          34558\n",
       "heat                                                            29656\n",
       "charcoal                                                        28000\n",
       "conventional_crude_oil                                          27352\n",
       "other_bituminous_coal                                           23138\n",
       "other_oil_products_n_e_c                                        22081\n",
       "lubricants                                                      21374\n",
       "bitumen                                                         20743\n",
       "brown_coal                                                      19729\n",
       "aviation_gasoline                                               18171\n",
       "petroleum_coke                                                  16494\n",
       "naphtha                                                         15969\n",
       "refinery_gas                                                    15706\n",
       "other_vegetal_material_and_residues                             13959\n",
       "bagasse                                                         12579\n",
       "lignite                                                         12461\n",
       "blast_furnace_gas                                               11963\n",
       "coke_oven_coke                                                  11846\n",
       "biogases                                                        10885\n",
       "white_spirit_and_special_boiling_point_industrial_spirits       10079\n",
       "                                                                ...  \n",
       "peat                                                             5313\n",
       "anthracite                                                       4894\n",
       "biodiesel                                                        4568\n",
       "black_liquor                                                     4154\n",
       "biogasoline                                                      3871\n",
       "hydro                                                            3744\n",
       "direct_use_of_solar_thermal_heat                                 3649\n",
       "patent_fuel                                                      3235\n",
       "additives_and_oxygenates                                         3018\n",
       "of_which_biodiesel                                               2624\n",
       "direct_use_of_geothermal_heat                                    2436\n",
       "coal_tar                                                         2245\n",
       "of_which_biogasoline                                             2170\n",
       "other_recovered_gases                                            2105\n",
       "ethane                                                           2014\n",
       "other_hydrocarbons                                               1962\n",
       "animal_waste                                                     1922\n",
       "peat_products                                                    1707\n",
       "other_liquid_biofuels                                            1617\n",
       "wind_electricity                                                 1367\n",
       "gasoline_type_jet_fuel                                           1293\n",
       "falling_water                                                     962\n",
       "solar_electricity                                                 953\n",
       "oil_shale_oil_sands                                               756\n",
       "nuclear_electricity                                               756\n",
       "uranium                                                           684\n",
       "geothermal                                                        496\n",
       "gas_coke                                                          365\n",
       "other_coal_products                                               105\n",
       "tide_wave_and_ocean_electricity                                    58\n",
       "Name: category, Length: 71, dtype: int64"
      ]
     },
     "execution_count": 10,
     "metadata": {},
     "output_type": "execute_result"
    }
   ],
   "source": [
    "edf.category.value_counts()"
   ]
  },
  {
   "cell_type": "code",
   "execution_count": 11,
   "metadata": {},
   "outputs": [
    {
     "data": {
      "text/plain": [
       "From combustible fuels – Main activity                                                               6601\n",
       "Electricity - Gross demand                                                                           5532\n",
       "Electricity - Gross production                                                                       5523\n",
       "Electricity - total production, main activity                                                        5523\n",
       "Electricity - net production                                                                         5523\n",
       "Electricity - Own use by electricity, heat and CHP plants                                            5523\n",
       "Electricity - total net installed capacity of electric power plants, main activity                   5521\n",
       "Electricity - total net installed capacity of electric power plants, main activity & autoproducer    5521\n",
       "Electricity - Final energy consumption                                                               5499\n",
       "Electricity - Consumption by other                                                                   5491\n",
       "Electricity - total thermal production                                                               5489\n",
       "Electricity - total net installed capacity of electric power plants, combustible fuels               5487\n",
       "Electricity - net installed capacity of electric power plants, public combustible fuels              5478\n",
       "Gas Oil/ Diesel Oil - Total energy supply                                                            5362\n",
       "Motor Gasoline - Total energy supply                                                                 5295\n",
       "Motor Gasoline - Final consumption                                                                   5266\n",
       "Motor Gasoline - Final energy consumption                                                            5266\n",
       "Motor Gasoline - Consumption by transport                                                            5258\n",
       "Gas Oil/ Diesel Oil - Final consumption                                                              5241\n",
       "Gas Oil/ Diesel Oil - Final energy consumption                                                       5240\n",
       "Electricity - Consumption by households                                                              5180\n",
       "Electricity - Losses                                                                                 5168\n",
       "Motor Gasoline - Consumption in road                                                                 5156\n",
       "Gas Oil/ Diesel Oil - Imports                                                                        5153\n",
       "Motor Gasoline - Imports                                                                             5034\n",
       "Gas Oil/ Diesel Oil - Consumption by transport                                                       4955\n",
       "Fuelwood - Total energy supply                                                                       4910\n",
       "Kerosene-type Jet Fuel - Total energy supply                                                         4884\n",
       "Fuelwood - Final consumption                                                                         4736\n",
       "Fuelwood - Final energy consumption                                                                  4736\n",
       "                                                                                                     ... \n",
       "Lubricants - Consumption by non-metallic minerals                                                       1\n",
       "Peat Products - Consumption by non-ferrous metals                                                       1\n",
       "Blast Furnace Gas - Consumption by food and tobacco                                                     1\n",
       "Naphtha - Consumption by commerce and public services                                                   1\n",
       "Bitumen - Consumption by mining and quarrying                                                           1\n",
       "Charcoal - Consumption by paper, pulp and print                                                         1\n",
       "Patent fuel - Consumption by textile and leather                                                        1\n",
       "Patent fuel - consumption by transport                                                                  1\n",
       "Lubricants - Consumption by machinery                                                                   1\n",
       "Lignite - Consumption by domestic navigation                                                            1\n",
       "Paraffin waxes - Consumption by transport equipment                                                     1\n",
       "Paraffin waxes - Consumption by machinery                                                               1\n",
       "Refinery gas - Transformation in coke ovens                                                             1\n",
       "White spirit and special boiling point industrial spirits - Consumption by non-ferrous metals           1\n",
       "Other bituminous coal - other transformation                                                            1\n",
       "Kerosene-type Jet Fuel - Transformation in CHP plants - main activity producers                         1\n",
       "Biogasoline - Consumption not elsewhere specified (transport)                                           1\n",
       "Direct use of geothermal heat - Consumption by iron and steel                                           1\n",
       "Lubricants - Receipts from other sources                                                                1\n",
       "Biodiesel - Net transfers                                                                               1\n",
       "Vegetal waste - Consumption by construction                                                             1\n",
       "Patent fuel - own use in coal mines                                                                     1\n",
       "Coking coal - consumption by wood and wood products industry                                            1\n",
       "Coking coal - consumption by domestic navigation                                                        1\n",
       "Paraffin waxes - Consumption by textile and leather                                                     1\n",
       "Charcoal - Consumption by non-metallic minerals                                                         1\n",
       "Other liquid biofuels - Transformation in heat plants - autoproducers                                   1\n",
       "Blast Furnace Gas - Consumption by construction                                                         1\n",
       "Charcoal - Consumption by non-ferrous metals                                                            1\n",
       "Lubricants - Consumption by transport equipment                                                         1\n",
       "Name: commodity_transaction, Length: 2452, dtype: int64"
      ]
     },
     "execution_count": 11,
     "metadata": {},
     "output_type": "execute_result"
    }
   ],
   "source": [
    "edf.commodity_transaction.value_counts()"
   ]
  },
  {
   "cell_type": "code",
   "execution_count": 12,
   "metadata": {},
   "outputs": [
    {
     "data": {
      "text/plain": [
       "array(['Additives and Oxygenates - Exports',\n",
       "       'Additives and Oxygenates - Imports',\n",
       "       'Additives and Oxygenates - Production', ...,\n",
       "       'White spirit and special boiling point industrial spirits - Transformation',\n",
       "       'White spirit and special boiling point industrial spirits - Transformation in petrochemical plants',\n",
       "       'Electricity - total wind production'], dtype=object)"
      ]
     },
     "execution_count": 12,
     "metadata": {},
     "output_type": "execute_result"
    }
   ],
   "source": [
    "edf.commodity_transaction.unique()"
   ]
  },
  {
   "cell_type": "markdown",
   "metadata": {},
   "source": [
    "## Clean"
   ]
  },
  {
   "cell_type": "code",
   "execution_count": 13,
   "metadata": {
    "collapsed": true
   },
   "outputs": [],
   "source": [
    "edf_copy = edf.copy()"
   ]
  },
  {
   "cell_type": "markdown",
   "metadata": {},
   "source": [
    "### define and code\n",
    "* split column commodity_transaction on ' - ' using str.split(); return a dataframe, concatenate this data frame with the existing one"
   ]
  },
  {
   "cell_type": "code",
   "execution_count": 14,
   "metadata": {
    "collapsed": true
   },
   "outputs": [],
   "source": [
    "edf_split = edf_copy.commodity_transaction.str.split(pat=r'\\s-\\s', n=0, expand=True)"
   ]
  },
  {
   "cell_type": "code",
   "execution_count": 15,
   "metadata": {
    "collapsed": true
   },
   "outputs": [],
   "source": [
    "edf_split.columns = ['commodity', 'transaction', 'modifier']"
   ]
  },
  {
   "cell_type": "code",
   "execution_count": 16,
   "metadata": {
    "collapsed": true
   },
   "outputs": [],
   "source": [
    "edf_copy = pd.concat([edf_copy, edf_split], axis=1)"
   ]
  },
  {
   "cell_type": "markdown",
   "metadata": {},
   "source": [
    "### Test"
   ]
  },
  {
   "cell_type": "code",
   "execution_count": 17,
   "metadata": {},
   "outputs": [
    {
     "data": {
      "text/html": [
       "<div>\n",
       "<style>\n",
       "    .dataframe thead tr:only-child th {\n",
       "        text-align: right;\n",
       "    }\n",
       "\n",
       "    .dataframe thead th {\n",
       "        text-align: left;\n",
       "    }\n",
       "\n",
       "    .dataframe tbody tr th {\n",
       "        vertical-align: top;\n",
       "    }\n",
       "</style>\n",
       "<table border=\"1\" class=\"dataframe\">\n",
       "  <thead>\n",
       "    <tr style=\"text-align: right;\">\n",
       "      <th></th>\n",
       "      <th>country_or_area</th>\n",
       "      <th>commodity_transaction</th>\n",
       "      <th>year</th>\n",
       "      <th>unit</th>\n",
       "      <th>quantity</th>\n",
       "      <th>quantity_footnotes</th>\n",
       "      <th>category</th>\n",
       "      <th>commodity</th>\n",
       "      <th>transaction</th>\n",
       "      <th>modifier</th>\n",
       "    </tr>\n",
       "  </thead>\n",
       "  <tbody>\n",
       "    <tr>\n",
       "      <th>1047522</th>\n",
       "      <td>India</td>\n",
       "      <td>Electricity - Consumption by households</td>\n",
       "      <td>2002</td>\n",
       "      <td>Kilowatt-hours, million</td>\n",
       "      <td>83355.000000</td>\n",
       "      <td>NaN</td>\n",
       "      <td>total_electricity</td>\n",
       "      <td>Electricity</td>\n",
       "      <td>Consumption by households</td>\n",
       "      <td>None</td>\n",
       "    </tr>\n",
       "    <tr>\n",
       "      <th>1010393</th>\n",
       "      <td>Russian Federation</td>\n",
       "      <td>Refinery Gas - Consumption by commerce and pub...</td>\n",
       "      <td>2008</td>\n",
       "      <td>Metric tons,  thousand</td>\n",
       "      <td>20.000000</td>\n",
       "      <td>NaN</td>\n",
       "      <td>refinery_gas</td>\n",
       "      <td>Refinery Gas</td>\n",
       "      <td>Consumption by commerce and public services</td>\n",
       "      <td>None</td>\n",
       "    </tr>\n",
       "    <tr>\n",
       "      <th>343723</th>\n",
       "      <td>Honduras</td>\n",
       "      <td>Fuelwood - Consumption by other</td>\n",
       "      <td>1994</td>\n",
       "      <td>Cubic metres, thousand</td>\n",
       "      <td>8022.000000</td>\n",
       "      <td>1.0</td>\n",
       "      <td>fuelwood</td>\n",
       "      <td>Fuelwood</td>\n",
       "      <td>Consumption by other</td>\n",
       "      <td>None</td>\n",
       "    </tr>\n",
       "    <tr>\n",
       "      <th>313084</th>\n",
       "      <td>Venezuela (Bolivar. Rep.)</td>\n",
       "      <td>Fuel oil - production from refineries</td>\n",
       "      <td>2000</td>\n",
       "      <td>Metric tons,  thousand</td>\n",
       "      <td>13938.271605</td>\n",
       "      <td>NaN</td>\n",
       "      <td>fuel_oil</td>\n",
       "      <td>Fuel oil</td>\n",
       "      <td>production from refineries</td>\n",
       "      <td>None</td>\n",
       "    </tr>\n",
       "    <tr>\n",
       "      <th>302973</th>\n",
       "      <td>Israel</td>\n",
       "      <td>Fuel oil - International marine bunkers</td>\n",
       "      <td>1999</td>\n",
       "      <td>Metric tons,  thousand</td>\n",
       "      <td>93.000000</td>\n",
       "      <td>NaN</td>\n",
       "      <td>fuel_oil</td>\n",
       "      <td>Fuel oil</td>\n",
       "      <td>International marine bunkers</td>\n",
       "      <td>None</td>\n",
       "    </tr>\n",
       "    <tr>\n",
       "      <th>266779</th>\n",
       "      <td>Mexico</td>\n",
       "      <td>Fuel oil - Consumption by manufacturing, const...</td>\n",
       "      <td>1993</td>\n",
       "      <td>Metric tons,  thousand</td>\n",
       "      <td>5177.000000</td>\n",
       "      <td>NaN</td>\n",
       "      <td>fuel_oil</td>\n",
       "      <td>Fuel oil</td>\n",
       "      <td>Consumption by manufacturing, construction and...</td>\n",
       "      <td>None</td>\n",
       "    </tr>\n",
       "    <tr>\n",
       "      <th>619631</th>\n",
       "      <td>Georgia</td>\n",
       "      <td>Lignite - Total energy supply</td>\n",
       "      <td>2009</td>\n",
       "      <td>Metric tons,  thousand</td>\n",
       "      <td>168.000000</td>\n",
       "      <td>NaN</td>\n",
       "      <td>lignite</td>\n",
       "      <td>Lignite</td>\n",
       "      <td>Total energy supply</td>\n",
       "      <td>None</td>\n",
       "    </tr>\n",
       "    <tr>\n",
       "      <th>968788</th>\n",
       "      <td>India</td>\n",
       "      <td>Vegetal waste - Transformation in electricity,...</td>\n",
       "      <td>2011</td>\n",
       "      <td>Terajoules</td>\n",
       "      <td>189684.000000</td>\n",
       "      <td>1.0</td>\n",
       "      <td>other_vegetal_material_and_residues</td>\n",
       "      <td>Vegetal waste</td>\n",
       "      <td>Transformation in electricity, CHP and heat pl...</td>\n",
       "      <td>None</td>\n",
       "    </tr>\n",
       "    <tr>\n",
       "      <th>272103</th>\n",
       "      <td>Pakistan</td>\n",
       "      <td>Fuel oil - Consumption by other</td>\n",
       "      <td>2010</td>\n",
       "      <td>Metric tons,  thousand</td>\n",
       "      <td>4.013000</td>\n",
       "      <td>NaN</td>\n",
       "      <td>fuel_oil</td>\n",
       "      <td>Fuel oil</td>\n",
       "      <td>Consumption by other</td>\n",
       "      <td>None</td>\n",
       "    </tr>\n",
       "    <tr>\n",
       "      <th>1129915</th>\n",
       "      <td>Zambia</td>\n",
       "      <td>Electricity - Own use by electricity, heat and...</td>\n",
       "      <td>2007</td>\n",
       "      <td>Kilowatt-hours, million</td>\n",
       "      <td>237.000000</td>\n",
       "      <td>NaN</td>\n",
       "      <td>total_electricity</td>\n",
       "      <td>Electricity</td>\n",
       "      <td>Own use by electricity, heat and CHP plants</td>\n",
       "      <td>None</td>\n",
       "    </tr>\n",
       "  </tbody>\n",
       "</table>\n",
       "</div>"
      ],
      "text/plain": [
       "                   country_or_area  \\\n",
       "1047522                      India   \n",
       "1010393         Russian Federation   \n",
       "343723                    Honduras   \n",
       "313084   Venezuela (Bolivar. Rep.)   \n",
       "302973                      Israel   \n",
       "266779                      Mexico   \n",
       "619631                     Georgia   \n",
       "968788                       India   \n",
       "272103                    Pakistan   \n",
       "1129915                     Zambia   \n",
       "\n",
       "                                     commodity_transaction  year  \\\n",
       "1047522            Electricity - Consumption by households  2002   \n",
       "1010393  Refinery Gas - Consumption by commerce and pub...  2008   \n",
       "343723                     Fuelwood - Consumption by other  1994   \n",
       "313084               Fuel oil - production from refineries  2000   \n",
       "302973             Fuel oil - International marine bunkers  1999   \n",
       "266779   Fuel oil - Consumption by manufacturing, const...  1993   \n",
       "619631                       Lignite - Total energy supply  2009   \n",
       "968788   Vegetal waste - Transformation in electricity,...  2011   \n",
       "272103                     Fuel oil - Consumption by other  2010   \n",
       "1129915  Electricity - Own use by electricity, heat and...  2007   \n",
       "\n",
       "                            unit       quantity  quantity_footnotes  \\\n",
       "1047522  Kilowatt-hours, million   83355.000000                 NaN   \n",
       "1010393   Metric tons,  thousand      20.000000                 NaN   \n",
       "343723    Cubic metres, thousand    8022.000000                 1.0   \n",
       "313084    Metric tons,  thousand   13938.271605                 NaN   \n",
       "302973    Metric tons,  thousand      93.000000                 NaN   \n",
       "266779    Metric tons,  thousand    5177.000000                 NaN   \n",
       "619631    Metric tons,  thousand     168.000000                 NaN   \n",
       "968788                Terajoules  189684.000000                 1.0   \n",
       "272103    Metric tons,  thousand       4.013000                 NaN   \n",
       "1129915  Kilowatt-hours, million     237.000000                 NaN   \n",
       "\n",
       "                                    category      commodity  \\\n",
       "1047522                    total_electricity    Electricity   \n",
       "1010393                         refinery_gas   Refinery Gas   \n",
       "343723                              fuelwood       Fuelwood   \n",
       "313084                              fuel_oil       Fuel oil   \n",
       "302973                              fuel_oil       Fuel oil   \n",
       "266779                              fuel_oil       Fuel oil   \n",
       "619631                               lignite        Lignite   \n",
       "968788   other_vegetal_material_and_residues  Vegetal waste   \n",
       "272103                              fuel_oil       Fuel oil   \n",
       "1129915                    total_electricity    Electricity   \n",
       "\n",
       "                                               transaction modifier  \n",
       "1047522                          Consumption by households     None  \n",
       "1010393        Consumption by commerce and public services     None  \n",
       "343723                                Consumption by other     None  \n",
       "313084                          production from refineries     None  \n",
       "302973                        International marine bunkers     None  \n",
       "266779   Consumption by manufacturing, construction and...     None  \n",
       "619631                                 Total energy supply     None  \n",
       "968788   Transformation in electricity, CHP and heat pl...     None  \n",
       "272103                                Consumption by other     None  \n",
       "1129915        Own use by electricity, heat and CHP plants     None  "
      ]
     },
     "execution_count": 17,
     "metadata": {},
     "output_type": "execute_result"
    }
   ],
   "source": [
    "edf_copy.sample(10)"
   ]
  },
  {
   "cell_type": "code",
   "execution_count": 18,
   "metadata": {},
   "outputs": [
    {
     "data": {
      "text/html": [
       "<div>\n",
       "<style>\n",
       "    .dataframe thead tr:only-child th {\n",
       "        text-align: right;\n",
       "    }\n",
       "\n",
       "    .dataframe thead th {\n",
       "        text-align: left;\n",
       "    }\n",
       "\n",
       "    .dataframe tbody tr th {\n",
       "        vertical-align: top;\n",
       "    }\n",
       "</style>\n",
       "<table border=\"1\" class=\"dataframe\">\n",
       "  <thead>\n",
       "    <tr style=\"text-align: right;\">\n",
       "      <th></th>\n",
       "      <th>country_or_area</th>\n",
       "      <th>commodity_transaction</th>\n",
       "      <th>year</th>\n",
       "      <th>unit</th>\n",
       "      <th>quantity</th>\n",
       "      <th>quantity_footnotes</th>\n",
       "      <th>category</th>\n",
       "      <th>commodity</th>\n",
       "      <th>transaction</th>\n",
       "      <th>modifier</th>\n",
       "    </tr>\n",
       "  </thead>\n",
       "  <tbody>\n",
       "  </tbody>\n",
       "</table>\n",
       "</div>"
      ],
      "text/plain": [
       "Empty DataFrame\n",
       "Columns: [country_or_area, commodity_transaction, year, unit, quantity, quantity_footnotes, category, commodity, transaction, modifier]\n",
       "Index: []"
      ]
     },
     "execution_count": 18,
     "metadata": {},
     "output_type": "execute_result"
    }
   ],
   "source": [
    "edf_copy[edf_copy.commodity.isnull()]"
   ]
  },
  {
   "cell_type": "code",
   "execution_count": 19,
   "metadata": {},
   "outputs": [
    {
     "name": "stdout",
     "output_type": "stream",
     "text": [
      "<class 'pandas.core.frame.DataFrame'>\n",
      "Int64Index: 41416 entries, 121420 to 1177351\n",
      "Data columns (total 10 columns):\n",
      "country_or_area          41416 non-null object\n",
      "commodity_transaction    41416 non-null object\n",
      "year                     41416 non-null int64\n",
      "unit                     41416 non-null object\n",
      "quantity                 41416 non-null float64\n",
      "quantity_footnotes       3819 non-null float64\n",
      "category                 41416 non-null object\n",
      "commodity                41416 non-null object\n",
      "transaction              0 non-null object\n",
      "modifier                 0 non-null object\n",
      "dtypes: float64(2), int64(1), object(7)\n",
      "memory usage: 3.5+ MB\n"
     ]
    }
   ],
   "source": [
    "edf_copy[edf_copy.transaction.isnull()].info()"
   ]
  },
  {
   "cell_type": "code",
   "execution_count": 20,
   "metadata": {},
   "outputs": [
    {
     "data": {
      "text/html": [
       "<div>\n",
       "<style>\n",
       "    .dataframe thead tr:only-child th {\n",
       "        text-align: right;\n",
       "    }\n",
       "\n",
       "    .dataframe thead th {\n",
       "        text-align: left;\n",
       "    }\n",
       "\n",
       "    .dataframe tbody tr th {\n",
       "        vertical-align: top;\n",
       "    }\n",
       "</style>\n",
       "<table border=\"1\" class=\"dataframe\">\n",
       "  <thead>\n",
       "    <tr style=\"text-align: right;\">\n",
       "      <th></th>\n",
       "      <th>country_or_area</th>\n",
       "      <th>commodity_transaction</th>\n",
       "      <th>year</th>\n",
       "      <th>unit</th>\n",
       "      <th>quantity</th>\n",
       "      <th>quantity_footnotes</th>\n",
       "      <th>category</th>\n",
       "      <th>commodity</th>\n",
       "      <th>transaction</th>\n",
       "      <th>modifier</th>\n",
       "    </tr>\n",
       "  </thead>\n",
       "  <tbody>\n",
       "    <tr>\n",
       "      <th>1169001</th>\n",
       "      <td>Lao People's Dem. Rep.</td>\n",
       "      <td>Solar photovoltaic – Autoproducer</td>\n",
       "      <td>2009</td>\n",
       "      <td>Kilowatt-hours, million</td>\n",
       "      <td>193.3</td>\n",
       "      <td>1.0</td>\n",
       "      <td>total_electricity</td>\n",
       "      <td>Solar photovoltaic – Autoproducer</td>\n",
       "      <td>None</td>\n",
       "      <td>None</td>\n",
       "    </tr>\n",
       "    <tr>\n",
       "      <th>1161833</th>\n",
       "      <td>Albania</td>\n",
       "      <td>Hydro – Main activity</td>\n",
       "      <td>1996</td>\n",
       "      <td>Kilowatt-hours, million</td>\n",
       "      <td>5726.0</td>\n",
       "      <td>NaN</td>\n",
       "      <td>total_electricity</td>\n",
       "      <td>Hydro – Main activity</td>\n",
       "      <td>None</td>\n",
       "      <td>None</td>\n",
       "    </tr>\n",
       "    <tr>\n",
       "      <th>1172391</th>\n",
       "      <td>El Salvador</td>\n",
       "      <td>Total refinery output</td>\n",
       "      <td>2005</td>\n",
       "      <td>Metric tons,  thousand</td>\n",
       "      <td>1041.0</td>\n",
       "      <td>NaN</td>\n",
       "      <td>total_refinery_output</td>\n",
       "      <td>Total refinery output</td>\n",
       "      <td>None</td>\n",
       "      <td>None</td>\n",
       "    </tr>\n",
       "    <tr>\n",
       "      <th>1174649</th>\n",
       "      <td>Azerbaijan</td>\n",
       "      <td>Total refinery throughput</td>\n",
       "      <td>1994</td>\n",
       "      <td>Metric tons,  thousand</td>\n",
       "      <td>10497.0</td>\n",
       "      <td>NaN</td>\n",
       "      <td>total_refinery_output</td>\n",
       "      <td>Total refinery throughput</td>\n",
       "      <td>None</td>\n",
       "      <td>None</td>\n",
       "    </tr>\n",
       "    <tr>\n",
       "      <th>1164651</th>\n",
       "      <td>Russian Federation</td>\n",
       "      <td>Hydro – Main activity</td>\n",
       "      <td>2000</td>\n",
       "      <td>Kilowatt-hours, million</td>\n",
       "      <td>164412.0</td>\n",
       "      <td>NaN</td>\n",
       "      <td>total_electricity</td>\n",
       "      <td>Hydro – Main activity</td>\n",
       "      <td>None</td>\n",
       "      <td>None</td>\n",
       "    </tr>\n",
       "    <tr>\n",
       "      <th>1152817</th>\n",
       "      <td>Mexico</td>\n",
       "      <td>From combustible fuels – Main activity</td>\n",
       "      <td>2002</td>\n",
       "      <td>Kilowatt-hours, million</td>\n",
       "      <td>161996.0</td>\n",
       "      <td>NaN</td>\n",
       "      <td>total_electricity</td>\n",
       "      <td>From combustible fuels – Main activity</td>\n",
       "      <td>None</td>\n",
       "      <td>None</td>\n",
       "    </tr>\n",
       "    <tr>\n",
       "      <th>1176373</th>\n",
       "      <td>Papua New Guinea</td>\n",
       "      <td>Total refinery throughput</td>\n",
       "      <td>2008</td>\n",
       "      <td>Metric tons,  thousand</td>\n",
       "      <td>804.0</td>\n",
       "      <td>NaN</td>\n",
       "      <td>total_refinery_output</td>\n",
       "      <td>Total refinery throughput</td>\n",
       "      <td>None</td>\n",
       "      <td>None</td>\n",
       "    </tr>\n",
       "    <tr>\n",
       "      <th>1167579</th>\n",
       "      <td>Switzerland</td>\n",
       "      <td>Of which: Pumped hydro – Main activity</td>\n",
       "      <td>2003</td>\n",
       "      <td>Kilowatt-hours, million</td>\n",
       "      <td>2029.0</td>\n",
       "      <td>NaN</td>\n",
       "      <td>total_electricity</td>\n",
       "      <td>Of which: Pumped hydro – Main activity</td>\n",
       "      <td>None</td>\n",
       "      <td>None</td>\n",
       "    </tr>\n",
       "    <tr>\n",
       "      <th>1159949</th>\n",
       "      <td>Philippines</td>\n",
       "      <td>Geothermal – Main activity</td>\n",
       "      <td>2003</td>\n",
       "      <td>Kilowatt-hours, million</td>\n",
       "      <td>9822.0</td>\n",
       "      <td>NaN</td>\n",
       "      <td>total_electricity</td>\n",
       "      <td>Geothermal – Main activity</td>\n",
       "      <td>None</td>\n",
       "      <td>None</td>\n",
       "    </tr>\n",
       "    <tr>\n",
       "      <th>1164349</th>\n",
       "      <td>Pakistan</td>\n",
       "      <td>Hydro – Main activity</td>\n",
       "      <td>2004</td>\n",
       "      <td>Kilowatt-hours, million</td>\n",
       "      <td>25671.0</td>\n",
       "      <td>NaN</td>\n",
       "      <td>total_electricity</td>\n",
       "      <td>Hydro – Main activity</td>\n",
       "      <td>None</td>\n",
       "      <td>None</td>\n",
       "    </tr>\n",
       "  </tbody>\n",
       "</table>\n",
       "</div>"
      ],
      "text/plain": [
       "                country_or_area                   commodity_transaction  year  \\\n",
       "1169001  Lao People's Dem. Rep.       Solar photovoltaic – Autoproducer  2009   \n",
       "1161833                 Albania                   Hydro – Main activity  1996   \n",
       "1172391             El Salvador                   Total refinery output  2005   \n",
       "1174649              Azerbaijan               Total refinery throughput  1994   \n",
       "1164651      Russian Federation                   Hydro – Main activity  2000   \n",
       "1152817                  Mexico  From combustible fuels – Main activity  2002   \n",
       "1176373        Papua New Guinea               Total refinery throughput  2008   \n",
       "1167579             Switzerland  Of which: Pumped hydro – Main activity  2003   \n",
       "1159949             Philippines              Geothermal – Main activity  2003   \n",
       "1164349                Pakistan                   Hydro – Main activity  2004   \n",
       "\n",
       "                            unit  quantity  quantity_footnotes  \\\n",
       "1169001  Kilowatt-hours, million     193.3                 1.0   \n",
       "1161833  Kilowatt-hours, million    5726.0                 NaN   \n",
       "1172391   Metric tons,  thousand    1041.0                 NaN   \n",
       "1174649   Metric tons,  thousand   10497.0                 NaN   \n",
       "1164651  Kilowatt-hours, million  164412.0                 NaN   \n",
       "1152817  Kilowatt-hours, million  161996.0                 NaN   \n",
       "1176373   Metric tons,  thousand     804.0                 NaN   \n",
       "1167579  Kilowatt-hours, million    2029.0                 NaN   \n",
       "1159949  Kilowatt-hours, million    9822.0                 NaN   \n",
       "1164349  Kilowatt-hours, million   25671.0                 NaN   \n",
       "\n",
       "                      category                               commodity  \\\n",
       "1169001      total_electricity       Solar photovoltaic – Autoproducer   \n",
       "1161833      total_electricity                   Hydro – Main activity   \n",
       "1172391  total_refinery_output                   Total refinery output   \n",
       "1174649  total_refinery_output               Total refinery throughput   \n",
       "1164651      total_electricity                   Hydro – Main activity   \n",
       "1152817      total_electricity  From combustible fuels – Main activity   \n",
       "1176373  total_refinery_output               Total refinery throughput   \n",
       "1167579      total_electricity  Of which: Pumped hydro – Main activity   \n",
       "1159949      total_electricity              Geothermal – Main activity   \n",
       "1164349      total_electricity                   Hydro – Main activity   \n",
       "\n",
       "        transaction modifier  \n",
       "1169001        None     None  \n",
       "1161833        None     None  \n",
       "1172391        None     None  \n",
       "1174649        None     None  \n",
       "1164651        None     None  \n",
       "1152817        None     None  \n",
       "1176373        None     None  \n",
       "1167579        None     None  \n",
       "1159949        None     None  \n",
       "1164349        None     None  "
      ]
     },
     "execution_count": 20,
     "metadata": {},
     "output_type": "execute_result"
    }
   ],
   "source": [
    "edf_copy[edf_copy.transaction.isnull()].sample(10)"
   ]
  },
  {
   "cell_type": "markdown",
   "metadata": {},
   "source": [
    "## Assess\n",
    "* there is an issue with the split method, not splitting on what appear to be ' - ', the probelm rows have None as transaction in edf_copy, for this subest the index object will be used to find them in the original edf dataframe"
   ]
  },
  {
   "cell_type": "code",
   "execution_count": 21,
   "metadata": {
    "collapsed": true
   },
   "outputs": [],
   "source": [
    "problems = edf.loc[edf_copy[edf_copy.transaction.isnull()].index]"
   ]
  },
  {
   "cell_type": "code",
   "execution_count": 22,
   "metadata": {},
   "outputs": [
    {
     "name": "stdout",
     "output_type": "stream",
     "text": [
      "<class 'pandas.core.frame.DataFrame'>\n",
      "Int64Index: 41416 entries, 121420 to 1177351\n",
      "Data columns (total 7 columns):\n",
      "country_or_area          41416 non-null object\n",
      "commodity_transaction    41416 non-null object\n",
      "year                     41416 non-null int64\n",
      "unit                     41416 non-null object\n",
      "quantity                 41416 non-null float64\n",
      "quantity_footnotes       3819 non-null float64\n",
      "category                 41416 non-null object\n",
      "dtypes: float64(2), int64(1), object(4)\n",
      "memory usage: 2.5+ MB\n"
     ]
    }
   ],
   "source": [
    "problems.info()"
   ]
  },
  {
   "cell_type": "code",
   "execution_count": 23,
   "metadata": {},
   "outputs": [
    {
     "data": {
      "text/plain": [
       "From combustible fuels – Main activity                         6601\n",
       "From combustible fuels – Autoproducer                          4234\n",
       "Hydro – Main activity                                          3708\n",
       "Total refinery throughput                                      2893\n",
       "Total refinery output                                          2890\n",
       "From combustible fuels – Main activity – Electricity plants    2785\n",
       "From combustible fuels – Main activity – CHP plants            1878\n",
       "From combustible fuels – Autoproducer – Electricity plants     1781\n",
       "From combustible fuels – Autoproducer – CHP plants             1499\n",
       "Hydro – Autoproducer                                           1331\n",
       "Wind – Main activity                                           1277\n",
       "Nuclear – Main activity                                         909\n",
       "From combustible fuels – Main activity – Heat plants            851\n",
       "Solar – Main activity                                           696\n",
       "Geothermal – Main activity                                      681\n",
       "Of which: Pumped hydro – Main activity                          662\n",
       "Solar photovoltaic – Main activity                              567\n",
       "Nuclear – Main activity – Electricity plants                    548\n",
       "From combustible fuels – Autoproducer – Heat plants             490\n",
       "Solar – Autoproducer                                            459\n",
       "Solar photovoltaic – Autoproducer                               407\n",
       "Lignite brown coal- recoverable resources                       406\n",
       "Wind – Autoproducer                                             404\n",
       "Geothermal – Main activity – Electricity plants                 347\n",
       "From other sources – Autoproducer                               296\n",
       "From other sources – Main activity                              220\n",
       "Geothermal – Main activity – Heat plants                        195\n",
       "From electric boilers – Main activity                           182\n",
       "Nuclear – Main activity – CHP plants                            174\n",
       "Geothermal – Autoproducer                                       145\n",
       "From chemical sources – Autoproducer                            144\n",
       "From other sources – Autoproducer – CHP plants                  143\n",
       "From other sources – Main activity – Electricity plants         140\n",
       "From heat pumps – Main activity                                 135\n",
       "Solar thermal – Main activity                                   121\n",
       "From chemical heat – Autoproducer                               111\n",
       "From other sources – Autoproducer – Electricity plants          108\n",
       "From chemical sources – Autoproducer – Heat plants              108\n",
       "From other sources – Autoproducer – Heat plants                  95\n",
       "From chemical heat – Autoproducer – Electricity plants           83\n",
       "Of which: Pumped hydro – Autoproducer                            69\n",
       "From chemical heat – Autoproducer – CHP plants                   61\n",
       "From chemical sources – Autoproducer – CHP plants                61\n",
       "From other sources – Main activity – Heat plants                 61\n",
       "From other sources – Main activity – CHP plants                  56\n",
       "Geothermal – Autoproducer – Heat plants                          54\n",
       "Geothermal – Autoproducer – Electricity plants                   53\n",
       "Tide, wave and marine – Main activity                            52\n",
       "Geothermal – Main activity – CHP plants                          49\n",
       "Solar thermal – Autoproducer                                     42\n",
       "Nuclear – Autoproducer                                           34\n",
       "Geothermal – Autoproducer – CHP plants                           29\n",
       "Nuclear – Autoproducer – Electricity plants                      28\n",
       "From chemical heat – Main activity                               19\n",
       "From chemical heat – Main activity – CHP plants                  19\n",
       "From chemical heat – Main activity – Electricity plants          14\n",
       "Tide, wave and marine – Autoproducer                              6\n",
       "Nuclear – Autoproducer – CHP plants                               5\n",
       "Name: commodity_transaction, dtype: int64"
      ]
     },
     "execution_count": 23,
     "metadata": {},
     "output_type": "execute_result"
    }
   ],
   "source": [
    "problems.commodity_transaction.value_counts()"
   ]
  },
  {
   "cell_type": "code",
   "execution_count": 24,
   "metadata": {},
   "outputs": [
    {
     "data": {
      "text/html": [
       "<div>\n",
       "<style>\n",
       "    .dataframe thead tr:only-child th {\n",
       "        text-align: right;\n",
       "    }\n",
       "\n",
       "    .dataframe thead th {\n",
       "        text-align: left;\n",
       "    }\n",
       "\n",
       "    .dataframe tbody tr th {\n",
       "        vertical-align: top;\n",
       "    }\n",
       "</style>\n",
       "<table border=\"1\" class=\"dataframe\">\n",
       "  <thead>\n",
       "    <tr style=\"text-align: right;\">\n",
       "      <th></th>\n",
       "      <th>country_or_area</th>\n",
       "      <th>commodity_transaction</th>\n",
       "      <th>year</th>\n",
       "      <th>unit</th>\n",
       "      <th>quantity</th>\n",
       "      <th>quantity_footnotes</th>\n",
       "      <th>category</th>\n",
       "    </tr>\n",
       "  </thead>\n",
       "  <tbody>\n",
       "    <tr>\n",
       "      <th>1164018</th>\n",
       "      <td>Mexico</td>\n",
       "      <td>Hydro – Main activity</td>\n",
       "      <td>1999</td>\n",
       "      <td>Kilowatt-hours, million</td>\n",
       "      <td>32714.0</td>\n",
       "      <td>NaN</td>\n",
       "      <td>total_electricity</td>\n",
       "    </tr>\n",
       "    <tr>\n",
       "      <th>1154765</th>\n",
       "      <td>United Arab Emirates</td>\n",
       "      <td>From combustible fuels – Main activity</td>\n",
       "      <td>2006</td>\n",
       "      <td>Kilowatt-hours, million</td>\n",
       "      <td>66768.0</td>\n",
       "      <td>NaN</td>\n",
       "      <td>total_electricity</td>\n",
       "    </tr>\n",
       "    <tr>\n",
       "      <th>1171858</th>\n",
       "      <td>Belgium</td>\n",
       "      <td>Total refinery output</td>\n",
       "      <td>1997</td>\n",
       "      <td>Metric tons,  thousand</td>\n",
       "      <td>36644.0</td>\n",
       "      <td>NaN</td>\n",
       "      <td>total_refinery_output</td>\n",
       "    </tr>\n",
       "    <tr>\n",
       "      <th>1150215</th>\n",
       "      <td>Bolivia (Plur. State of)</td>\n",
       "      <td>From combustible fuels – Main activity</td>\n",
       "      <td>1992</td>\n",
       "      <td>Kilowatt-hours, million</td>\n",
       "      <td>1106.0</td>\n",
       "      <td>NaN</td>\n",
       "      <td>total_electricity</td>\n",
       "    </tr>\n",
       "    <tr>\n",
       "      <th>1144945</th>\n",
       "      <td>Japan</td>\n",
       "      <td>From combustible fuels – Autoproducer</td>\n",
       "      <td>2010</td>\n",
       "      <td>Kilowatt-hours, million</td>\n",
       "      <td>141561.0</td>\n",
       "      <td>NaN</td>\n",
       "      <td>total_electricity</td>\n",
       "    </tr>\n",
       "    <tr>\n",
       "      <th>1176122</th>\n",
       "      <td>Myanmar</td>\n",
       "      <td>Total refinery throughput</td>\n",
       "      <td>1994</td>\n",
       "      <td>Metric tons,  thousand</td>\n",
       "      <td>879.0</td>\n",
       "      <td>NaN</td>\n",
       "      <td>total_refinery_output</td>\n",
       "    </tr>\n",
       "    <tr>\n",
       "      <th>1148226</th>\n",
       "      <td>Côte d'Ivoire</td>\n",
       "      <td>From combustible fuels – Autoproducer – Electr...</td>\n",
       "      <td>2013</td>\n",
       "      <td>Kilowatt-hours, million</td>\n",
       "      <td>70.0</td>\n",
       "      <td>NaN</td>\n",
       "      <td>total_electricity</td>\n",
       "    </tr>\n",
       "    <tr>\n",
       "      <th>534709</th>\n",
       "      <td>Bulgaria</td>\n",
       "      <td>From combustible fuels – Autoproducer – CHP pl...</td>\n",
       "      <td>2014</td>\n",
       "      <td>Terajoules</td>\n",
       "      <td>87.0</td>\n",
       "      <td>NaN</td>\n",
       "      <td>heat</td>\n",
       "    </tr>\n",
       "    <tr>\n",
       "      <th>1144153</th>\n",
       "      <td>Dem. Rep. of the Congo</td>\n",
       "      <td>From combustible fuels – Autoproducer</td>\n",
       "      <td>2004</td>\n",
       "      <td>Kilowatt-hours, million</td>\n",
       "      <td>0.0</td>\n",
       "      <td>1.0</td>\n",
       "      <td>total_electricity</td>\n",
       "    </tr>\n",
       "    <tr>\n",
       "      <th>1168949</th>\n",
       "      <td>Japan</td>\n",
       "      <td>Solar photovoltaic – Autoproducer</td>\n",
       "      <td>2009</td>\n",
       "      <td>Kilowatt-hours, million</td>\n",
       "      <td>2758.0</td>\n",
       "      <td>NaN</td>\n",
       "      <td>total_electricity</td>\n",
       "    </tr>\n",
       "  </tbody>\n",
       "</table>\n",
       "</div>"
      ],
      "text/plain": [
       "                  country_or_area  \\\n",
       "1164018                    Mexico   \n",
       "1154765      United Arab Emirates   \n",
       "1171858                   Belgium   \n",
       "1150215  Bolivia (Plur. State of)   \n",
       "1144945                     Japan   \n",
       "1176122                   Myanmar   \n",
       "1148226             Côte d'Ivoire   \n",
       "534709                   Bulgaria   \n",
       "1144153    Dem. Rep. of the Congo   \n",
       "1168949                     Japan   \n",
       "\n",
       "                                     commodity_transaction  year  \\\n",
       "1164018                              Hydro – Main activity  1999   \n",
       "1154765             From combustible fuels – Main activity  2006   \n",
       "1171858                              Total refinery output  1997   \n",
       "1150215             From combustible fuels – Main activity  1992   \n",
       "1144945              From combustible fuels – Autoproducer  2010   \n",
       "1176122                          Total refinery throughput  1994   \n",
       "1148226  From combustible fuels – Autoproducer – Electr...  2013   \n",
       "534709   From combustible fuels – Autoproducer – CHP pl...  2014   \n",
       "1144153              From combustible fuels – Autoproducer  2004   \n",
       "1168949                  Solar photovoltaic – Autoproducer  2009   \n",
       "\n",
       "                            unit  quantity  quantity_footnotes  \\\n",
       "1164018  Kilowatt-hours, million   32714.0                 NaN   \n",
       "1154765  Kilowatt-hours, million   66768.0                 NaN   \n",
       "1171858   Metric tons,  thousand   36644.0                 NaN   \n",
       "1150215  Kilowatt-hours, million    1106.0                 NaN   \n",
       "1144945  Kilowatt-hours, million  141561.0                 NaN   \n",
       "1176122   Metric tons,  thousand     879.0                 NaN   \n",
       "1148226  Kilowatt-hours, million      70.0                 NaN   \n",
       "534709                Terajoules      87.0                 NaN   \n",
       "1144153  Kilowatt-hours, million       0.0                 1.0   \n",
       "1168949  Kilowatt-hours, million    2758.0                 NaN   \n",
       "\n",
       "                      category  \n",
       "1164018      total_electricity  \n",
       "1154765      total_electricity  \n",
       "1171858  total_refinery_output  \n",
       "1150215      total_electricity  \n",
       "1144945      total_electricity  \n",
       "1176122  total_refinery_output  \n",
       "1148226      total_electricity  \n",
       "534709                    heat  \n",
       "1144153      total_electricity  \n",
       "1168949      total_electricity  "
      ]
     },
     "execution_count": 24,
     "metadata": {},
     "output_type": "execute_result"
    }
   ],
   "source": [
    "problems.sample(10)"
   ]
  },
  {
   "cell_type": "code",
   "execution_count": 25,
   "metadata": {},
   "outputs": [
    {
     "data": {
      "text/plain": [
       "False"
      ]
     },
     "execution_count": 25,
     "metadata": {},
     "output_type": "execute_result"
    }
   ],
   "source": [
    "ord(problems.loc[1160362].commodity_transaction.split()[1]) == ord('-')"
   ]
  },
  {
   "cell_type": "code",
   "execution_count": 26,
   "metadata": {},
   "outputs": [
    {
     "data": {
      "text/plain": [
       "8211"
      ]
     },
     "execution_count": 26,
     "metadata": {},
     "output_type": "execute_result"
    }
   ],
   "source": [
    "ord(problems.loc[1160362].commodity_transaction.split()[1])"
   ]
  },
  {
   "cell_type": "code",
   "execution_count": 27,
   "metadata": {},
   "outputs": [
    {
     "data": {
      "text/plain": [
       "45"
      ]
     },
     "execution_count": 27,
     "metadata": {},
     "output_type": "execute_result"
    }
   ],
   "source": [
    "ord('-')"
   ]
  },
  {
   "cell_type": "code",
   "execution_count": 28,
   "metadata": {},
   "outputs": [
    {
     "data": {
      "text/plain": [
       "45"
      ]
     },
     "execution_count": 28,
     "metadata": {},
     "output_type": "execute_result"
    }
   ],
   "source": [
    "ord('-')"
   ]
  },
  {
   "cell_type": "code",
   "execution_count": 29,
   "metadata": {},
   "outputs": [
    {
     "data": {
      "text/plain": [
       "['Geothermal ', ' Main activity ', ' Electricity plants']"
      ]
     },
     "execution_count": 29,
     "metadata": {},
     "output_type": "execute_result"
    }
   ],
   "source": [
    "problems.loc[1160362].commodity_transaction.replace(chr(8211), '-').split(r'-')"
   ]
  },
  {
   "cell_type": "markdown",
   "metadata": {},
   "source": [
    "### findings\n",
    "* the issue is that what appears to be a hyphen in some rows in the commodity_transaction column is in fact an em-dash\n",
    "* also noticed previously, an em-dash or hyphen is not always preceeded by white space"
   ]
  },
  {
   "cell_type": "markdown",
   "metadata": {},
   "source": [
    "## Clean"
   ]
  },
  {
   "cell_type": "markdown",
   "metadata": {},
   "source": [
    "### define and code\n",
    "* reconstruct the edf_copy data frame from the original"
   ]
  },
  {
   "cell_type": "code",
   "execution_count": 30,
   "metadata": {
    "collapsed": true
   },
   "outputs": [],
   "source": [
    "edf_copy = edf.copy()"
   ]
  },
  {
   "cell_type": "markdown",
   "metadata": {},
   "source": [
    "### define and code\n",
    "* replace the em-dash with hyphen in the commodity transaction column (this approach seemed more straighforward than trying to match a hyphen or an em-dash in with str.split and a regex)\n",
    "* split column commodity_transaction on hyphen or dash using str.split(); return a dataframe, concatenate this data frame with the existing one"
   ]
  },
  {
   "cell_type": "code",
   "execution_count": 31,
   "metadata": {
    "collapsed": true
   },
   "outputs": [],
   "source": [
    "edf_copy.commodity_transaction = edf_copy.commodity_transaction.str.replace(chr(8211), '-')"
   ]
  },
  {
   "cell_type": "code",
   "execution_count": 32,
   "metadata": {
    "collapsed": true
   },
   "outputs": [],
   "source": [
    "edf_split = edf_copy.commodity_transaction.str.split(pat=r'\\s*[-]\\s', n=0, expand=True)"
   ]
  },
  {
   "cell_type": "code",
   "execution_count": 33,
   "metadata": {
    "collapsed": true
   },
   "outputs": [],
   "source": [
    "edf_split.columns = ['commodity', 'transaction', 'modifier']"
   ]
  },
  {
   "cell_type": "code",
   "execution_count": 34,
   "metadata": {
    "collapsed": true
   },
   "outputs": [],
   "source": [
    "edf_copy = pd.concat([edf_copy, edf_split], axis=1)"
   ]
  },
  {
   "cell_type": "markdown",
   "metadata": {},
   "source": [
    "### test"
   ]
  },
  {
   "cell_type": "code",
   "execution_count": 35,
   "metadata": {},
   "outputs": [
    {
     "name": "stdout",
     "output_type": "stream",
     "text": [
      "<class 'pandas.core.frame.DataFrame'>\n",
      "RangeIndex: 1189482 entries, 0 to 1189481\n",
      "Data columns (total 10 columns):\n",
      "country_or_area          1189482 non-null object\n",
      "commodity_transaction    1189482 non-null object\n",
      "year                     1189482 non-null int64\n",
      "unit                     1189482 non-null object\n",
      "quantity                 1189482 non-null float64\n",
      "quantity_footnotes       163946 non-null float64\n",
      "category                 1189482 non-null object\n",
      "commodity                1189482 non-null object\n",
      "transaction              1183699 non-null object\n",
      "modifier                 47472 non-null object\n",
      "dtypes: float64(2), int64(1), object(7)\n",
      "memory usage: 90.8+ MB\n"
     ]
    }
   ],
   "source": [
    "edf_copy.info()"
   ]
  },
  {
   "cell_type": "code",
   "execution_count": 36,
   "metadata": {},
   "outputs": [
    {
     "data": {
      "text/plain": [
       "main activity producers    17227\n",
       "autoproducers              15226\n",
       "Electricity plants          5887\n",
       "CHP plants                  3974\n",
       "Heat plants                 1854\n",
       "Total                       1507\n",
       "Main activity producers     1235\n",
       "Autoproducers                562\n",
       "Name: modifier, dtype: int64"
      ]
     },
     "execution_count": 36,
     "metadata": {},
     "output_type": "execute_result"
    }
   ],
   "source": [
    "edf_copy.modifier.value_counts()"
   ]
  },
  {
   "cell_type": "code",
   "execution_count": 37,
   "metadata": {},
   "outputs": [
    {
     "data": {
      "text/plain": [
       "Total energy supply                                                                  77769\n",
       "Final energy consumption                                                             60878\n",
       "Final consumption                                                                    60217\n",
       "Production                                                                           50897\n",
       "Imports                                                                              47001\n",
       "Consumption by other                                                                 37780\n",
       "Consumption by households                                                            27506\n",
       "production from refineries                                                           26964\n",
       "Exports                                                                              26328\n",
       "Stock changes                                                                        24218\n",
       "Transformation                                                                       24149\n",
       "Main activity                                                                        22947\n",
       "Consumption by transport                                                             20079\n",
       "Transformation in electricity, CHP and heat plants                                   19494\n",
       "Consumption by other manuf., const. and non-fuel ind.                                18716\n",
       "Consumption by manufacturing, construction and non-fuel industry                     18684\n",
       "Non-energy uses                                                                      16345\n",
       "imports                                                                              14150\n",
       "Energy industries own use                                                            13647\n",
       "final consumption                                                                    12932\n",
       "Autoproducer                                                                         12280\n",
       "total energy supply                                                                  12037\n",
       "Transformation in electricity plants                                                 11716\n",
       "transformation                                                                       11576\n",
       "Consumption in road                                                                  11268\n",
       "Consumption not elsewhere specified (other)                                          10780\n",
       "Consumption in agriculture, forestry and fishing                                     10360\n",
       "production                                                                           10232\n",
       "Consumption by commerce and public services                                           9840\n",
       "exports                                                                               9724\n",
       "                                                                                     ...  \n",
       "own use by blast furnaces                                                               32\n",
       "Own use by coal liquefaction plants                                                     30\n",
       "Own use by other energy producers                                                       27\n",
       "international marine bunkers                                                            26\n",
       "Own use in coal mines                                                                   25\n",
       "Transformation in coal liquefaction plants                                              23\n",
       "consumption by other transportation                                                     23\n",
       "conversion in briquetting plants                                                        22\n",
       "net installed capacity of electric power plants, self-producer tide, wave, marine       16\n",
       "consumption by chemical and petrochemicalindustry                                       16\n",
       "own use in electricity, CHP and heat plants                                             13\n",
       "other reserves                                                                          12\n",
       "own use by coal liquefaction plants                                                     10\n",
       "consumption by other consumers not elsewhere specified                                  10\n",
       "Consumption by electricity, CHP and heat plants                                          9\n",
       "Transformatin in gas works                                                               9\n",
       "Own use in coke ovens                                                                    9\n",
       "Memo: Opening stock level (national territory)                                           8\n",
       "Own use by gas-to-liquid (GTL) plants                                                    8\n",
       "Memo: Closing stock level (national territory)                                           8\n",
       "Consumption by briquetting plants                                                        6\n",
       "Conversion in blast furnaces                                                             6\n",
       "Other transformation processes not elsewhere classified                                  4\n",
       "Consumption by LNG/regasification plants                                                 3\n",
       "Own use by charcoal plants                                                               3\n",
       " Transformation in natural gas blending plants                                           3\n",
       "own use by gasworks                                                                      2\n",
       "Net transfers                                                                            1\n",
       "own use in coal mines                                                                    1\n",
       "non energy uses                                                                          1\n",
       "Name: transaction, Length: 322, dtype: int64"
      ]
     },
     "execution_count": 37,
     "metadata": {},
     "output_type": "execute_result"
    }
   ],
   "source": [
    "edf_copy.transaction.value_counts()"
   ]
  },
  {
   "cell_type": "markdown",
   "metadata": {},
   "source": [
    "### define and code\n",
    "* drop the commodity_transaction column"
   ]
  },
  {
   "cell_type": "code",
   "execution_count": 38,
   "metadata": {
    "collapsed": true
   },
   "outputs": [],
   "source": [
    "edf_copy.drop(['commodity_transaction'], axis=1, inplace=True)"
   ]
  },
  {
   "cell_type": "markdown",
   "metadata": {},
   "source": [
    "### test"
   ]
  },
  {
   "cell_type": "code",
   "execution_count": 39,
   "metadata": {},
   "outputs": [
    {
     "name": "stdout",
     "output_type": "stream",
     "text": [
      "<class 'pandas.core.frame.DataFrame'>\n",
      "RangeIndex: 1189482 entries, 0 to 1189481\n",
      "Data columns (total 9 columns):\n",
      "country_or_area       1189482 non-null object\n",
      "year                  1189482 non-null int64\n",
      "unit                  1189482 non-null object\n",
      "quantity              1189482 non-null float64\n",
      "quantity_footnotes    163946 non-null float64\n",
      "category              1189482 non-null object\n",
      "commodity             1189482 non-null object\n",
      "transaction           1183699 non-null object\n",
      "modifier              47472 non-null object\n",
      "dtypes: float64(2), int64(1), object(6)\n",
      "memory usage: 81.7+ MB\n"
     ]
    }
   ],
   "source": [
    "edf_copy.info()"
   ]
  },
  {
   "cell_type": "markdown",
   "metadata": {},
   "source": [
    "### define and code\n",
    "* relace the unit strings"
   ]
  },
  {
   "cell_type": "code",
   "execution_count": 40,
   "metadata": {
    "collapsed": true
   },
   "outputs": [],
   "source": [
    "edf_copy['unit'] = edf_copy.unit.str.replace('Metric tons,  thousand', 'thousand metric tons')\n",
    "edf_copy['unit'] = edf_copy.unit.str.replace('Kilowatt-hours, million', 'million kilowatt-hours')\n",
    "edf_copy['unit'] = edf_copy.unit.str.replace('Cubic metres, thousand', 'thousand cubic meters')\n",
    "edf_copy['unit'] = edf_copy.unit.str.replace('Kilowatts,  thousand', 'thousand kilowatts')\n",
    "edf_copy['unit'] = edf_copy.unit.str.replace('Metric Tons', 'metric tons')\n",
    "edf_copy['unit'] = edf_copy.unit.str.replace('Terajoules', 'terajoules')"
   ]
  },
  {
   "cell_type": "markdown",
   "metadata": {},
   "source": [
    "### test"
   ]
  },
  {
   "cell_type": "code",
   "execution_count": 41,
   "metadata": {},
   "outputs": [
    {
     "data": {
      "text/plain": [
       "thousand metric tons      759859\n",
       "terajoules                178937\n",
       "million kilowatt-hours    147741\n",
       "thousand cubic meters      52032\n",
       "thousand kilowatts         50229\n",
       "metric tons                  684\n",
       "Name: unit, dtype: int64"
      ]
     },
     "execution_count": 41,
     "metadata": {},
     "output_type": "execute_result"
    }
   ],
   "source": [
    "edf_copy.unit.value_counts()"
   ]
  },
  {
   "cell_type": "markdown",
   "metadata": {},
   "source": [
    "### define and code\n",
    "* convert the year column to datetime using pd.to_datetime(series, format), change the month and day to december 31st or all year entries using datetime.replace"
   ]
  },
  {
   "cell_type": "code",
   "execution_count": 42,
   "metadata": {
    "collapsed": true
   },
   "outputs": [],
   "source": [
    "edf_copy['year'] = pd.to_datetime(edf_copy['year'], format='%Y')"
   ]
  },
  {
   "cell_type": "code",
   "execution_count": 43,
   "metadata": {
    "collapsed": true
   },
   "outputs": [],
   "source": [
    "edf_copy['year'] = edf_copy['year'].apply(lambda dt: dt.replace(day=31, month=12))"
   ]
  },
  {
   "cell_type": "markdown",
   "metadata": {},
   "source": [
    "### test"
   ]
  },
  {
   "cell_type": "code",
   "execution_count": 44,
   "metadata": {},
   "outputs": [
    {
     "data": {
      "text/plain": [
       "country_or_area               object\n",
       "year                  datetime64[ns]\n",
       "unit                          object\n",
       "quantity                     float64\n",
       "quantity_footnotes           float64\n",
       "category                      object\n",
       "commodity                     object\n",
       "transaction                   object\n",
       "modifier                      object\n",
       "dtype: object"
      ]
     },
     "execution_count": 44,
     "metadata": {},
     "output_type": "execute_result"
    }
   ],
   "source": [
    "edf_copy.dtypes"
   ]
  },
  {
   "cell_type": "markdown",
   "metadata": {},
   "source": [
    "### define and code\n",
    "* convert the unit columns data type to category"
   ]
  },
  {
   "cell_type": "code",
   "execution_count": 45,
   "metadata": {
    "collapsed": true
   },
   "outputs": [],
   "source": [
    "edf_copy['unit'] = edf_copy['unit'].astype('category')"
   ]
  },
  {
   "cell_type": "markdown",
   "metadata": {},
   "source": [
    "### test"
   ]
  },
  {
   "cell_type": "code",
   "execution_count": 46,
   "metadata": {},
   "outputs": [
    {
     "data": {
      "text/plain": [
       "country_or_area               object\n",
       "year                  datetime64[ns]\n",
       "unit                        category\n",
       "quantity                     float64\n",
       "quantity_footnotes           float64\n",
       "category                      object\n",
       "commodity                     object\n",
       "transaction                   object\n",
       "modifier                      object\n",
       "dtype: object"
      ]
     },
     "execution_count": 46,
     "metadata": {},
     "output_type": "execute_result"
    }
   ],
   "source": [
    "edf_copy.dtypes"
   ]
  },
  {
   "cell_type": "code",
   "execution_count": 47,
   "metadata": {},
   "outputs": [
    {
     "data": {
      "text/plain": [
       "thousand metric tons      759859\n",
       "terajoules                178937\n",
       "million kilowatt-hours    147741\n",
       "thousand cubic meters      52032\n",
       "thousand kilowatts         50229\n",
       "metric tons                  684\n",
       "Name: unit, dtype: int64"
      ]
     },
     "execution_count": 47,
     "metadata": {},
     "output_type": "execute_result"
    }
   ],
   "source": [
    "edf_copy.unit.value_counts()"
   ]
  },
  {
   "cell_type": "markdown",
   "metadata": {},
   "source": [
    "## Assess"
   ]
  },
  {
   "cell_type": "code",
   "execution_count": 48,
   "metadata": {},
   "outputs": [
    {
     "name": "stdout",
     "output_type": "stream",
     "text": [
      "<class 'pandas.core.frame.DataFrame'>\n",
      "RangeIndex: 1189482 entries, 0 to 1189481\n",
      "Data columns (total 9 columns):\n",
      "country_or_area       1189482 non-null object\n",
      "year                  1189482 non-null datetime64[ns]\n",
      "unit                  1189482 non-null category\n",
      "quantity              1189482 non-null float64\n",
      "quantity_footnotes    163946 non-null float64\n",
      "category              1189482 non-null object\n",
      "commodity             1189482 non-null object\n",
      "transaction           1183699 non-null object\n",
      "modifier              47472 non-null object\n",
      "dtypes: category(1), datetime64[ns](1), float64(2), object(5)\n",
      "memory usage: 73.7+ MB\n"
     ]
    }
   ],
   "source": [
    "edf_copy.info()"
   ]
  },
  {
   "cell_type": "code",
   "execution_count": 50,
   "metadata": {
    "collapsed": true
   },
   "outputs": [],
   "source": [
    "edf_copy.category = edf_copy.category.str.replace('_', ' ')"
   ]
  },
  {
   "cell_type": "code",
   "execution_count": 51,
   "metadata": {
    "collapsed": true
   },
   "outputs": [],
   "source": [
    "edf_copy.category = edf_copy.category.str.strip()"
   ]
  },
  {
   "cell_type": "code",
   "execution_count": 52,
   "metadata": {
    "collapsed": true
   },
   "outputs": [],
   "source": [
    "edf_copy.commodity = edf_copy.commodity.str.strip().str.lower()"
   ]
  },
  {
   "cell_type": "code",
   "execution_count": 53,
   "metadata": {
    "collapsed": true
   },
   "outputs": [],
   "source": [
    "edf_copy.transaction = edf_copy.transaction.str.strip().str.lower()"
   ]
  },
  {
   "cell_type": "code",
   "execution_count": 54,
   "metadata": {
    "collapsed": true
   },
   "outputs": [],
   "source": [
    "edf_copy.modifier = edf_copy.modifier.str.strip().str.lower()"
   ]
  },
  {
   "cell_type": "markdown",
   "metadata": {},
   "source": [
    "### test"
   ]
  },
  {
   "cell_type": "code",
   "execution_count": 55,
   "metadata": {},
   "outputs": [
    {
     "data": {
      "text/html": [
       "<div>\n",
       "<style>\n",
       "    .dataframe thead tr:only-child th {\n",
       "        text-align: right;\n",
       "    }\n",
       "\n",
       "    .dataframe thead th {\n",
       "        text-align: left;\n",
       "    }\n",
       "\n",
       "    .dataframe tbody tr th {\n",
       "        vertical-align: top;\n",
       "    }\n",
       "</style>\n",
       "<table border=\"1\" class=\"dataframe\">\n",
       "  <thead>\n",
       "    <tr style=\"text-align: right;\">\n",
       "      <th></th>\n",
       "      <th>country_or_area</th>\n",
       "      <th>year</th>\n",
       "      <th>unit</th>\n",
       "      <th>quantity</th>\n",
       "      <th>quantity_footnotes</th>\n",
       "      <th>category</th>\n",
       "      <th>commodity</th>\n",
       "      <th>transaction</th>\n",
       "      <th>modifier</th>\n",
       "    </tr>\n",
       "  </thead>\n",
       "  <tbody>\n",
       "    <tr>\n",
       "      <th>0</th>\n",
       "      <td>Austria</td>\n",
       "      <td>1996-12-31</td>\n",
       "      <td>thousand metric tons</td>\n",
       "      <td>5.0</td>\n",
       "      <td>NaN</td>\n",
       "      <td>additives and oxygenates</td>\n",
       "      <td>additives and oxygenates</td>\n",
       "      <td>exports</td>\n",
       "      <td>None</td>\n",
       "    </tr>\n",
       "    <tr>\n",
       "      <th>1</th>\n",
       "      <td>Austria</td>\n",
       "      <td>1995-12-31</td>\n",
       "      <td>thousand metric tons</td>\n",
       "      <td>17.0</td>\n",
       "      <td>NaN</td>\n",
       "      <td>additives and oxygenates</td>\n",
       "      <td>additives and oxygenates</td>\n",
       "      <td>exports</td>\n",
       "      <td>None</td>\n",
       "    </tr>\n",
       "    <tr>\n",
       "      <th>2</th>\n",
       "      <td>Belgium</td>\n",
       "      <td>2014-12-31</td>\n",
       "      <td>thousand metric tons</td>\n",
       "      <td>0.0</td>\n",
       "      <td>NaN</td>\n",
       "      <td>additives and oxygenates</td>\n",
       "      <td>additives and oxygenates</td>\n",
       "      <td>exports</td>\n",
       "      <td>None</td>\n",
       "    </tr>\n",
       "    <tr>\n",
       "      <th>3</th>\n",
       "      <td>Belgium</td>\n",
       "      <td>2013-12-31</td>\n",
       "      <td>thousand metric tons</td>\n",
       "      <td>0.0</td>\n",
       "      <td>NaN</td>\n",
       "      <td>additives and oxygenates</td>\n",
       "      <td>additives and oxygenates</td>\n",
       "      <td>exports</td>\n",
       "      <td>None</td>\n",
       "    </tr>\n",
       "    <tr>\n",
       "      <th>4</th>\n",
       "      <td>Belgium</td>\n",
       "      <td>2012-12-31</td>\n",
       "      <td>thousand metric tons</td>\n",
       "      <td>35.0</td>\n",
       "      <td>NaN</td>\n",
       "      <td>additives and oxygenates</td>\n",
       "      <td>additives and oxygenates</td>\n",
       "      <td>exports</td>\n",
       "      <td>None</td>\n",
       "    </tr>\n",
       "  </tbody>\n",
       "</table>\n",
       "</div>"
      ],
      "text/plain": [
       "  country_or_area       year                  unit  quantity  \\\n",
       "0         Austria 1996-12-31  thousand metric tons       5.0   \n",
       "1         Austria 1995-12-31  thousand metric tons      17.0   \n",
       "2         Belgium 2014-12-31  thousand metric tons       0.0   \n",
       "3         Belgium 2013-12-31  thousand metric tons       0.0   \n",
       "4         Belgium 2012-12-31  thousand metric tons      35.0   \n",
       "\n",
       "   quantity_footnotes                  category                 commodity  \\\n",
       "0                 NaN  additives and oxygenates  additives and oxygenates   \n",
       "1                 NaN  additives and oxygenates  additives and oxygenates   \n",
       "2                 NaN  additives and oxygenates  additives and oxygenates   \n",
       "3                 NaN  additives and oxygenates  additives and oxygenates   \n",
       "4                 NaN  additives and oxygenates  additives and oxygenates   \n",
       "\n",
       "  transaction modifier  \n",
       "0     exports     None  \n",
       "1     exports     None  \n",
       "2     exports     None  \n",
       "3     exports     None  \n",
       "4     exports     None  "
      ]
     },
     "execution_count": 55,
     "metadata": {},
     "output_type": "execute_result"
    }
   ],
   "source": [
    "edf_copy.head(5)"
   ]
  },
  {
   "cell_type": "markdown",
   "metadata": {},
   "source": [
    "## Assess\n",
    "* I want to compare the category and commodity columns across the rows"
   ]
  },
  {
   "cell_type": "code",
   "execution_count": 56,
   "metadata": {},
   "outputs": [
    {
     "data": {
      "text/plain": [
       "(543346, 9)"
      ]
     },
     "execution_count": 56,
     "metadata": {},
     "output_type": "execute_result"
    }
   ],
   "source": [
    "edf_copy[(edf_copy.category != edf_copy.commodity)].shape"
   ]
  },
  {
   "cell_type": "code",
   "execution_count": 57,
   "metadata": {},
   "outputs": [
    {
     "data": {
      "text/plain": [
       "hard coal                42307\n",
       "charcoal                 28000\n",
       "other bituminous coal    23138\n",
       "brown coal               19729\n",
       "coking coal               6470\n",
       "brown coal briquettes     5903\n",
       "sub bituminous coal       5405\n",
       "coal tar                  2245\n",
       "other coal products        105\n",
       "Name: category, dtype: int64"
      ]
     },
     "execution_count": 57,
     "metadata": {},
     "output_type": "execute_result"
    }
   ],
   "source": [
    "edf_copy[(edf_copy.category.str.contains('coal'))].category.value_counts()"
   ]
  },
  {
   "cell_type": "code",
   "execution_count": 58,
   "metadata": {},
   "outputs": [
    {
     "data": {
      "text/plain": [
       "hard coal                40214\n",
       "charcoal                 28000\n",
       "other bituminous coal    23138\n",
       "brown coal               18616\n",
       "coking coal               6470\n",
       "brown coal briquettes     5903\n",
       "sub-bituminous coal       5405\n",
       "coal tar                  2245\n",
       "coal                      1198\n",
       "lignite brown coal        1113\n",
       "hrad coal                  895\n",
       "other coal products        105\n",
       "Name: commodity, dtype: int64"
      ]
     },
     "execution_count": 58,
     "metadata": {},
     "output_type": "execute_result"
    }
   ],
   "source": [
    "edf_copy[edf_copy.commodity.str.contains('coal')].commodity.value_counts()"
   ]
  },
  {
   "cell_type": "code",
   "execution_count": 59,
   "metadata": {},
   "outputs": [
    {
     "data": {
      "text/plain": [
       "count     163946\n",
       "unique       242\n",
       "top       Malawi\n",
       "freq        2247\n",
       "Name: country_or_area, dtype: object"
      ]
     },
     "execution_count": 59,
     "metadata": {},
     "output_type": "execute_result"
    }
   ],
   "source": [
    "edf_copy[edf_copy.quantity_footnotes.notnull()].country_or_area.describe()"
   ]
  },
  {
   "cell_type": "code",
   "execution_count": 60,
   "metadata": {},
   "outputs": [
    {
     "data": {
      "text/plain": [
       "electricity                      165140\n",
       "gas oil/ diesel oil               97645\n",
       "fuel oil                          75132\n",
       "natural gas (including lng)       64161\n",
       "motor gasoline                    53198\n",
       "fuelwood                          52032\n",
       "liquefied petroleum gas (lpg)     49078\n",
       "other kerosene                    43466\n",
       "hard coal                         40214\n",
       "kerosene-type jet fuel            34558\n",
       "charcoal                          28000\n",
       "other bituminous coal             23138\n",
       "other oil products n.e.c.         22081\n",
       "lubricants                        21374\n",
       "conventional crude oil            21160\n",
       "heat                              21116\n",
       "bitumen                           20743\n",
       "from combustible fuels            20119\n",
       "brown coal                        18616\n",
       "aviation gasoline                 18171\n",
       "petroleum coke                    16494\n",
       "naphtha                           15969\n",
       "refinery gas                      15706\n",
       "vegetal waste                     13959\n",
       "liquified petroleum gas (lpg)     13078\n",
       "bagasse                           12579\n",
       "lignite                           12461\n",
       "blast furnace gas                 11963\n",
       "coke oven gas                     11846\n",
       "biogases                          10885\n",
       "                                  ...  \n",
       "ethane                             2014\n",
       "other hydrocarbons                 1962\n",
       "animal waste                       1922\n",
       "heat production                    1877\n",
       "peat products                      1707\n",
       "nuclear                            1698\n",
       "wind                               1681\n",
       "other liquid biofuels              1617\n",
       "geothermal                         1553\n",
       "gasoline-type jet fuel             1293\n",
       "coal                               1198\n",
       "solar                              1155\n",
       "peat (for fuel use)                1154\n",
       "from other sources                 1119\n",
       "lignite brown coal                 1113\n",
       "solar photovoltaic                  974\n",
       "falling water                       962\n",
       "hrad coal                           895\n",
       "oil shale                           756\n",
       "of which: pumped hydro              731\n",
       "uranium                             684\n",
       "gas coke                            365\n",
       "from chemical sources               313\n",
       "from chemical heat                  307\n",
       "from electric boilers               182\n",
       "solar thermal                       163\n",
       "from heat pumps                     135\n",
       "other coal products                 105\n",
       "tide, wave and marine                58\n",
       "municipal waste                       3\n",
       "Name: commodity, Length: 88, dtype: int64"
      ]
     },
     "execution_count": 60,
     "metadata": {},
     "output_type": "execute_result"
    }
   ],
   "source": [
    "edf_copy.commodity.value_counts()"
   ]
  },
  {
   "cell_type": "markdown",
   "metadata": {},
   "source": [
    "### Findings\n",
    "* there are 163,946 records (1,189,482 total, around 13% of the data) that have non-null quantity foot notes. Refering to the UN data portal (where this data was obtained) it seems that this means that the quantity figure was an estimate. There is no infomation on the confidence of the estimate\n",
    "* lignite is brown coal, this can be addressed in the commodity column\n",
    "* hrad coal enteries can be replaced with hard coal"
   ]
  },
  {
   "cell_type": "markdown",
   "metadata": {},
   "source": [
    "## Clean"
   ]
  },
  {
   "cell_type": "markdown",
   "metadata": {},
   "source": [
    "### define and code\n",
    "* relace 'hrad coal in commodity column with 'hard coal' using the str.replace method, and 'lignite brown coal' with 'brown coal' in the same column using the same method"
   ]
  },
  {
   "cell_type": "code",
   "execution_count": 61,
   "metadata": {
    "collapsed": true
   },
   "outputs": [],
   "source": [
    "edf_copy.commodity = edf_copy.commodity.str.replace('hrad coal', 'hard coal')\n",
    "edf_copy.commodity = edf_copy.commodity.str.replace('lignite brown coal', 'brown coal')"
   ]
  },
  {
   "cell_type": "markdown",
   "metadata": {},
   "source": [
    "### test"
   ]
  },
  {
   "cell_type": "code",
   "execution_count": 62,
   "metadata": {},
   "outputs": [
    {
     "data": {
      "text/plain": [
       "hard coal                41109\n",
       "charcoal                 28000\n",
       "other bituminous coal    23138\n",
       "brown coal               19729\n",
       "coking coal               6470\n",
       "brown coal briquettes     5903\n",
       "sub-bituminous coal       5405\n",
       "coal tar                  2245\n",
       "coal                      1198\n",
       "other coal products        105\n",
       "Name: commodity, dtype: int64"
      ]
     },
     "execution_count": 62,
     "metadata": {},
     "output_type": "execute_result"
    }
   ],
   "source": [
    "edf_copy[edf_copy.commodity.str.contains('coal')].commodity.value_counts()"
   ]
  },
  {
   "cell_type": "markdown",
   "metadata": {},
   "source": [
    "### define and code\n",
    "* drop the quantity foot notes column"
   ]
  },
  {
   "cell_type": "code",
   "execution_count": 63,
   "metadata": {
    "collapsed": true
   },
   "outputs": [],
   "source": [
    "del edf_copy['quantity_footnotes']"
   ]
  },
  {
   "cell_type": "markdown",
   "metadata": {},
   "source": [
    "### test"
   ]
  },
  {
   "cell_type": "code",
   "execution_count": 64,
   "metadata": {},
   "outputs": [
    {
     "data": {
      "text/plain": [
       "Index(['country_or_area', 'year', 'unit', 'quantity', 'category', 'commodity',\n",
       "       'transaction', 'modifier'],\n",
       "      dtype='object')"
      ]
     },
     "execution_count": 64,
     "metadata": {},
     "output_type": "execute_result"
    }
   ],
   "source": [
    "edf_copy.columns"
   ]
  },
  {
   "cell_type": "markdown",
   "metadata": {
    "collapsed": true
   },
   "source": [
    "## Store"
   ]
  },
  {
   "cell_type": "code",
   "execution_count": 65,
   "metadata": {
    "collapsed": true
   },
   "outputs": [],
   "source": [
    "edf_copy.to_csv('energy_p3.csv', index=False)"
   ]
  },
  {
   "cell_type": "code",
   "execution_count": 76,
   "metadata": {
    "collapsed": true
   },
   "outputs": [],
   "source": [
    "with open('dtypes.pickle', 'wb') as fileobj:\n",
    "    pickle.dump(edf_copy.dtypes.to_dict(), fileobj, protocol=pickle.HIGHEST_PROTOCOL)"
   ]
  }
 ],
 "metadata": {
  "kernelspec": {
   "display_name": "Python 3",
   "language": "python",
   "name": "python3"
  },
  "language_info": {
   "codemirror_mode": {
    "name": "ipython",
    "version": 3
   },
   "file_extension": ".py",
   "mimetype": "text/x-python",
   "name": "python",
   "nbconvert_exporter": "python",
   "pygments_lexer": "ipython3",
   "version": "3.5.2"
  }
 },
 "nbformat": 4,
 "nbformat_minor": 2
}
